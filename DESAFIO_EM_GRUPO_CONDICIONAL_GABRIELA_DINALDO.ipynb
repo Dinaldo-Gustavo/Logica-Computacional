{
 "cells": [
  {
   "cell_type": "markdown",
   "id": "d94ab71d-f0b9-431c-a110-b44c80ebbe32",
   "metadata": {},
   "source": [
    "# DESAFIO EM GRUPO"
   ]
  },
  {
   "cell_type": "markdown",
   "id": "7c0ccd09-c503-47ff-8f80-906baaa77573",
   "metadata": {},
   "source": [
    "##  Criar um código com três proposições para tabela-verdade de CONJUNÇÃO e testar;"
   ]
  },
  {
   "cell_type": "code",
   "execution_count": null,
   "id": "1bac585c-713f-4496-a244-00ce7fe103c1",
   "metadata": {},
   "outputs": [],
   "source": [
    "#Nome: Dinaldo Gustavo da Rocha Ribeiro\n",
    "#Nome: Gabriela Maria Rodrigues de Morais"
   ]
  },
  {
   "cell_type": "code",
   "execution_count": 28,
   "id": "6d70b8f3-3179-4cd1-b8d0-b66e25214e53",
   "metadata": {},
   "outputs": [
    {
     "name": "stdout",
     "output_type": "stream",
     "text": [
      "\n",
      "p = True\n",
      "q = True\n",
      "r = True\n",
      "p->q->r = True\n"
     ]
    }
   ],
   "source": [
    "# p = \"A festa será de noite\"\n",
    "# q = \"A cor da roupa é preta\"\n",
    "# r = \"A comida será churrasco\"\n",
    "\n",
    "periodo = \"noite\"\n",
    "cor_roupa= \"preta\"\n",
    "comida = \"churrasco\"\n",
    "\n",
    "p = (periodo==\"noite\")\n",
    "q = (cor_roupa==\"preta\")\n",
    "r = (comida==\"churrasco\")\n",
    "\n",
    "print(f\"\"\"\n",
    "p = {p}\n",
    "q = {q}\n",
    "r = {r}\n",
    "p->q->r = {(not p) or (q and r) }\"\"\")"
   ]
  },
  {
   "cell_type": "code",
   "execution_count": 27,
   "id": "a2329db7-e10f-494c-bad7-02a814c4519b",
   "metadata": {},
   "outputs": [
    {
     "name": "stdout",
     "output_type": "stream",
     "text": [
      "\n",
      "p = False\n",
      "q = True\n",
      "r = True\n",
      "p->q->r = True\n"
     ]
    }
   ],
   "source": [
    "# p = \"A festa será de noite\"\n",
    "# q = \"A cor da roupa é preta\"\n",
    "# r = \"A comida será churrasco\"\n",
    "\n",
    "periodo = \"dia\"\n",
    "cor_roupa= \"preta\"\n",
    "comida = \"churrasco\"\n",
    "\n",
    "p = (periodo==\"noite\")\n",
    "q = (cor_roupa==\"preta\")\n",
    "r = (comida==\"churrasco\")\n",
    "\n",
    "print(f\"\"\"\n",
    "p = {p}\n",
    "q = {q}\n",
    "r = {r}\n",
    "p->q->r = {(not p) or (q and r) }\"\"\")"
   ]
  },
  {
   "cell_type": "code",
   "execution_count": 25,
   "id": "baf3e587-3c38-4acf-8558-f5fbcadb5eef",
   "metadata": {},
   "outputs": [
    {
     "name": "stdout",
     "output_type": "stream",
     "text": [
      "\n",
      "p = True\n",
      "q = False\n",
      "r = True\n",
      "p->q->r = False\n"
     ]
    }
   ],
   "source": [
    "# p = \"A festa será de noite\"\n",
    "# q = \"A cor da roupa é preta\"\n",
    "# r = \"A comida será churrasco\"\n",
    "\n",
    "periodo = \"noite\"\n",
    "cor_roupa= \"azul\"\n",
    "comida = \"churrasco\"\n",
    "\n",
    "p = (periodo==\"noite\")\n",
    "q = (cor_roupa==\"preta\")\n",
    "r = (comida==\"churrasco\")\n",
    "\n",
    "print(f\"\"\"\n",
    "p = {p}\n",
    "q = {q}\n",
    "r = {r}\n",
    "p->q->r = {(not p) or (q and r) }\"\"\")"
   ]
  },
  {
   "cell_type": "code",
   "execution_count": 24,
   "id": "cb515056-1aae-4785-91bd-7ffca432a227",
   "metadata": {},
   "outputs": [
    {
     "name": "stdout",
     "output_type": "stream",
     "text": [
      "\n",
      "p = True\n",
      "q = True\n",
      "r = False\n",
      "p->q->r = False\n"
     ]
    }
   ],
   "source": [
    "# p = \"A festa será de noite\"\n",
    "# q = \"A cor da roupa é preta\"\n",
    "# r = \"A comida será churrasco\"\n",
    "\n",
    "periodo = \"noite\"\n",
    "cor_roupa= \"preta\"\n",
    "comida = \"salgado\"\n",
    "\n",
    "p = (periodo==\"noite\")\n",
    "q = (cor_roupa==\"preta\")\n",
    "r = (comida==\"churrasco\")\n",
    "\n",
    "print(f\"\"\"\n",
    "p = {p}\n",
    "q = {q}\n",
    "r = {r}\n",
    "p->q->r = {(not p) or (q and r) }\"\"\")"
   ]
  },
  {
   "cell_type": "code",
   "execution_count": 23,
   "id": "19cd7235-4bca-424c-b6f6-f38e219e86c4",
   "metadata": {},
   "outputs": [
    {
     "name": "stdout",
     "output_type": "stream",
     "text": [
      "\n",
      "p = False\n",
      "q = False\n",
      "r = True\n",
      "p->q->r = True\n"
     ]
    }
   ],
   "source": [
    "# p = \"A festa será de noite\"\n",
    "# q = \"A cor da roupa é preta\"\n",
    "# r = \"A comida será churrasco\"\n",
    "\n",
    "periodo = \"dia\"\n",
    "cor_roupa= \"azul\"\n",
    "comida = \"churrasco\"\n",
    "\n",
    "p = (periodo==\"noite\")\n",
    "q = (cor_roupa==\"preta\")\n",
    "r = (comida==\"churrasco\")\n",
    "\n",
    "print(f\"\"\"\n",
    "p = {p}\n",
    "q = {q}\n",
    "r = {r}\n",
    "p->q->r = {(not p) or (q and r) }\"\"\")"
   ]
  },
  {
   "cell_type": "code",
   "execution_count": 22,
   "id": "02374446-7d09-4cf3-95a2-1aab7d8dd480",
   "metadata": {},
   "outputs": [
    {
     "name": "stdout",
     "output_type": "stream",
     "text": [
      "\n",
      "p = True\n",
      "q = False\n",
      "r = False\n",
      "p->q->r = False\n"
     ]
    }
   ],
   "source": [
    "# p = \"A festa será de noite\"\n",
    "# q = \"A cor da roupa é preta\"\n",
    "# r = \"A comida será churrasco\"\n",
    "\n",
    "periodo = \"noite\"\n",
    "cor_roupa= \"azul\"\n",
    "comida = \"salgado\"\n",
    "\n",
    "p = (periodo==\"noite\")\n",
    "q = (cor_roupa==\"preta\")\n",
    "r = (comida==\"churrasco\")\n",
    "\n",
    "print(f\"\"\"\n",
    "p = {p}\n",
    "q = {q}\n",
    "r = {r}\n",
    "p->q->r = {(not p) or (q and r) }\"\"\")"
   ]
  },
  {
   "cell_type": "code",
   "execution_count": 21,
   "id": "70be9274-0fbf-4f36-95cc-bd57d63f499d",
   "metadata": {},
   "outputs": [
    {
     "name": "stdout",
     "output_type": "stream",
     "text": [
      "\n",
      "p = False\n",
      "q = True\n",
      "r = False\n",
      "p->q->r = True\n"
     ]
    }
   ],
   "source": [
    "# p = \"A festa será de noite\"\n",
    "# q = \"A cor da roupa é preta\"\n",
    "# r = \"A comida será churrasco\"\n",
    "\n",
    "periodo = \"dia\"\n",
    "cor_roupa= \"preta\"\n",
    "comida = \"salgado\"\n",
    "\n",
    "p = (periodo==\"noite\")\n",
    "q = (cor_roupa==\"preta\")\n",
    "r = (comida==\"churrasco\")\n",
    "\n",
    "print(f\"\"\"\n",
    "p = {p}\n",
    "q = {q}\n",
    "r = {r}\n",
    "p->q->r = {(not p) or (q and r) }\"\"\")"
   ]
  },
  {
   "cell_type": "code",
   "execution_count": 20,
   "id": "2f916d48-fd00-464b-bb3b-b11511cdcff3",
   "metadata": {},
   "outputs": [
    {
     "name": "stdout",
     "output_type": "stream",
     "text": [
      "\n",
      "p = False\n",
      "q = False\n",
      "r = False\n",
      "p->q->r = True\n"
     ]
    }
   ],
   "source": [
    "# p = \"A festa será de noite\"\n",
    "# q = \"A cor da roupa é preta\"\n",
    "# r = \"A comida será churrasco\"\n",
    "\n",
    "periodo = \"dia\"\n",
    "cor_roupa= \"azul\"\n",
    "comida = \"salgado\"\n",
    "\n",
    "p = (periodo==\"noite\")\n",
    "q = (cor_roupa==\"preta\")\n",
    "r = (comida==\"churrasco\")\n",
    "\n",
    "print(f\"\"\"\n",
    "p = {p}\n",
    "q = {q}\n",
    "r = {r}\n",
    "p->q->r = {(not p) or (q and r) }\"\"\")"
   ]
  }
 ],
 "metadata": {
  "kernelspec": {
   "display_name": "Python 3 (ipykernel)",
   "language": "python",
   "name": "python3"
  },
  "language_info": {
   "codemirror_mode": {
    "name": "ipython",
    "version": 3
   },
   "file_extension": ".py",
   "mimetype": "text/x-python",
   "name": "python",
   "nbconvert_exporter": "python",
   "pygments_lexer": "ipython3",
   "version": "3.13.5"
  }
 },
 "nbformat": 4,
 "nbformat_minor": 5
}
