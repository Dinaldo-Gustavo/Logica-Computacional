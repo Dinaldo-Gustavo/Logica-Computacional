{
 "cells": [
  {
   "cell_type": "code",
   "execution_count": 1,
   "id": "fcc23ad8-53c9-4299-bb0c-db3d69d92dce",
   "metadata": {},
   "outputs": [
    {
     "name": "stdout",
     "output_type": "stream",
     "text": [
      "Caneta usada:  azul\n",
      "p (com caneta azul:  True\n",
      "~p (não com caneta azul False\n"
     ]
    }
   ],
   "source": [
    "# Valor observado (troque para \"preta\", \"vermelha\", \"verde\" etc.\n",
    "caneta = \"azul\"\n",
    "\n",
    "#Preposição: \"foi com caneta azul\"\n",
    "p = (caneta.lower() == \"azul\")\n",
    "# Negação da proposição\n",
    "nao_p = not p\n",
    "\n",
    "print(\"Caneta usada: \", caneta)\n",
    "print(\"p (com caneta azul: \", p)\n",
    "print(\"~p (não com caneta azul\", nao_p)"
   ]
  },
  {
   "cell_type": "code",
   "execution_count": 2,
   "id": "9e0def29-f4a5-44e3-b733-5db7d739932f",
   "metadata": {},
   "outputs": [
    {
     "name": "stdout",
     "output_type": "stream",
     "text": [
      "Caneta usada:  vermelha\n",
      "p (com caneta azul:  False\n",
      "~p (não com caneta azul True\n"
     ]
    }
   ],
   "source": [
    "# Valor observado (troque para \"preta\", \"vermelha\", \"verde\" etc.\n",
    "caneta = \"vermelha\"\n",
    "\n",
    "#Preposição: \"foi com caneta azul\"\n",
    "p = (caneta.lower() == \"azul\")\n",
    "# Negação da proposição\n",
    "nao_p = not p\n",
    "\n",
    "print(\"Caneta usada: \", caneta)\n",
    "print(\"p (com caneta azul: \", p)\n",
    "print(\"~p (não com caneta azul\", nao_p)"
   ]
  },
  {
   "cell_type": "code",
   "execution_count": 3,
   "id": "6bf2073c-ad1e-4362-a10d-9c9382929131",
   "metadata": {},
   "outputs": [
    {
     "name": "stdout",
     "output_type": "stream",
     "text": [
      "Caneta usada:  preta\n",
      "p (com caneta azul:  False\n",
      "~p (não com caneta azul True\n"
     ]
    }
   ],
   "source": [
    "# Valor observado (troque para \"preta\", \"vermelha\", \"verde\" etc.\n",
    "caneta = \"preta\"\n",
    "\n",
    "#Preposição: \"foi com caneta azul\"\n",
    "p = (caneta.lower() == \"azul\")\n",
    "# Negação da proposição\n",
    "nao_p = not p\n",
    "\n",
    "print(\"Caneta usada: \", caneta)\n",
    "print(\"p (com caneta azul: \", p)\n",
    "print(\"~p (não com caneta azul\", nao_p)"
   ]
  },
  {
   "cell_type": "code",
   "execution_count": 4,
   "id": "773f26aa-8f2a-4898-97c5-c5f96a7be39f",
   "metadata": {},
   "outputs": [
    {
     "name": "stdout",
     "output_type": "stream",
     "text": [
      "Caneta usada:  amarela\n",
      "p (com caneta azul:  False\n",
      "~p (não com caneta azul True\n"
     ]
    }
   ],
   "source": [
    "# Valor observado (troque para \"preta\", \"vermelha\", \"verde\" etc.\n",
    "caneta = \"amarela\"\n",
    "\n",
    "#Preposição: \"foi com caneta azul\"\n",
    "p = (caneta.lower() == \"azul\")\n",
    "# Negação da proposição\n",
    "nao_p = not p\n",
    "\n",
    "print(\"Caneta usada: \", caneta)\n",
    "print(\"p (com caneta azul: \", p)\n",
    "print(\"~p (não com caneta azul\", nao_p)"
   ]
  },
  {
   "cell_type": "code",
   "execution_count": null,
   "id": "749ff24a-31db-4ca3-8e28-f77e21ea7d29",
   "metadata": {},
   "outputs": [],
   "source": []
  }
 ],
 "metadata": {
  "kernelspec": {
   "display_name": "Python 3 (ipykernel)",
   "language": "python",
   "name": "python3"
  },
  "language_info": {
   "codemirror_mode": {
    "name": "ipython",
    "version": 3
   },
   "file_extension": ".py",
   "mimetype": "text/x-python",
   "name": "python",
   "nbconvert_exporter": "python",
   "pygments_lexer": "ipython3",
   "version": "3.13.5"
  }
 },
 "nbformat": 4,
 "nbformat_minor": 5
}
