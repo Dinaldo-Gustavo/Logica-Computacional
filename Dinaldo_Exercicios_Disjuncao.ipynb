{
 "cells": [
  {
   "cell_type": "markdown",
   "id": "975e280e-449f-4ab1-99da-22031b08f011",
   "metadata": {},
   "source": [
    "## DISJUNÇÃO V"
   ]
  },
  {
   "cell_type": "code",
   "execution_count": 5,
   "id": "b7b88ae4-67b8-4fa5-901d-ab6b3734cc78",
   "metadata": {},
   "outputs": [
    {
     "name": "stdout",
     "output_type": "stream",
     "text": [
      "p: True | q: True | pVq: True\n"
     ]
    }
   ],
   "source": [
    "# Disjunçao (or = v): só é False quando p ou q são False\n",
    "\n",
    "# p: A prova é aplicada hoje\"\n",
    "# q: A prova é respondida à caneta azul\"\n",
    "\n",
    "dia = \"hoje\"\n",
    "caneta = \"azul\"\n",
    "\n",
    "p = (dia == \"hoje\")\n",
    "q = (caneta == \"azul\")\n",
    "\n",
    "print(\"p:\",p,\"| q:\",q,\"| pVq:\",p or q)"
   ]
  },
  {
   "cell_type": "markdown",
   "id": "28479138-5b14-4ece-b2b2-792081f93a45",
   "metadata": {},
   "source": [
    "### 2º Exercício Proposto"
   ]
  },
  {
   "cell_type": "markdown",
   "id": "939c2c78-a98a-46af-b0d7-55bb78905190",
   "metadata": {},
   "source": [
    "a) Alterar no código a cor da caneta=\"verde\" e testar(rodar);"
   ]
  },
  {
   "cell_type": "code",
   "execution_count": 6,
   "id": "0ec5b135-cf9c-45c6-b188-62b214a1595b",
   "metadata": {},
   "outputs": [
    {
     "name": "stdout",
     "output_type": "stream",
     "text": [
      "p: True | q: False | pVq: True\n"
     ]
    }
   ],
   "source": [
    "dia = \"hoje\"\n",
    "caneta = \"verde\"\n",
    "\n",
    "p = (dia == \"hoje\")\n",
    "q = (caneta == \"azul\")\n",
    "\n",
    "print(\"p:\",p,\"| q:\",q,\"| pVq:\",p or q)"
   ]
  },
  {
   "cell_type": "markdown",
   "id": "6cb0ad9b-41dc-40af-bad1-6fc439784757",
   "metadata": {},
   "source": [
    "b) Alterar no código o dia=\"ontem\" e testar(rodar);"
   ]
  },
  {
   "cell_type": "code",
   "execution_count": 10,
   "id": "a49935bb-be58-42d1-a00c-2c485409e265",
   "metadata": {},
   "outputs": [
    {
     "name": "stdout",
     "output_type": "stream",
     "text": [
      "p: False | q: True | pVq: True\n"
     ]
    }
   ],
   "source": [
    "dia = \"ontem\"\n",
    "caneta = \"azul\"\n",
    "\n",
    "p = (dia == \"hoje\")\n",
    "q = (caneta == \"azul\")\n",
    "\n",
    "print(\"p:\",p,\"| q:\",q,\"| pVq:\",p or q)"
   ]
  },
  {
   "cell_type": "markdown",
   "id": "fed39817-f626-4479-ae16-dac1769e4178",
   "metadata": {},
   "source": [
    "c) Alterar no código o dia=\"amanhã\" e caneta=\"preta\" e testar(rodar);"
   ]
  },
  {
   "cell_type": "code",
   "execution_count": 9,
   "id": "ce5705dd-a8fa-4263-a6f8-8c4053b6ae93",
   "metadata": {},
   "outputs": [
    {
     "name": "stdout",
     "output_type": "stream",
     "text": [
      "p: False | q: False | pVq: False\n"
     ]
    }
   ],
   "source": [
    "dia = \"amanhã\"\n",
    "caneta = \"preta\"\n",
    "\n",
    "p = (dia == \"hoje\")\n",
    "q = (caneta == \"azul\")\n",
    "\n",
    "print(\"p:\",p,\"| q:\",q,\"| pVq:\",p or q)"
   ]
  }
 ],
 "metadata": {
  "kernelspec": {
   "display_name": "Python 3 (ipykernel)",
   "language": "python",
   "name": "python3"
  },
  "language_info": {
   "codemirror_mode": {
    "name": "ipython",
    "version": 3
   },
   "file_extension": ".py",
   "mimetype": "text/x-python",
   "name": "python",
   "nbconvert_exporter": "python",
   "pygments_lexer": "ipython3",
   "version": "3.13.5"
  }
 },
 "nbformat": 4,
 "nbformat_minor": 5
}
