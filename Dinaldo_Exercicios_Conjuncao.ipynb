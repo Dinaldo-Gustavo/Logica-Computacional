{
 "cells": [
  {
   "cell_type": "markdown",
   "id": "9e1ed7e4-0b7a-4786-8efa-17afb8d5026b",
   "metadata": {},
   "source": [
    "## CONJUNÇÃO ⋀"
   ]
  },
  {
   "cell_type": "code",
   "execution_count": 28,
   "id": "8036233e-cb8c-4c2f-ae98-b3a1eaf0d2f0",
   "metadata": {},
   "outputs": [
    {
     "name": "stdout",
     "output_type": "stream",
     "text": [
      "p: True | q: True | p^q: True\n"
     ]
    }
   ],
   "source": [
    "# Conjunção (AND = ^): só é True quando p e q são True\n",
    "\n",
    "# p: \"A prova é aplicada hoje\"\n",
    "# q: \"A prova é respondida à caneta azul\"\n",
    "\n",
    "dia = \"hoje\"\n",
    "caneta = \"azul\"\n",
    "\n",
    "p = (dia == \"hoje\")\n",
    "q = (caneta == \"azul\")\n",
    "\n",
    "print(\"p:\",p,\"| q:\",q,\"| p^q:\",p and q)"
   ]
  },
  {
   "cell_type": "markdown",
   "id": "f9f40cf9-444a-4f2f-87ac-af3a1e1b28fe",
   "metadata": {},
   "source": [
    "### 1º Exercício Proposto"
   ]
  },
  {
   "cell_type": "markdown",
   "id": "48121e08-a5fa-42be-a234-2cbb040f1912",
   "metadata": {},
   "source": [
    "a) Alterar no código a cor da caneta=\"preta\" e testar(rodar);"
   ]
  },
  {
   "cell_type": "code",
   "execution_count": 25,
   "id": "2183a08b-5cc0-42ff-a10c-638dff816d97",
   "metadata": {},
   "outputs": [
    {
     "name": "stdout",
     "output_type": "stream",
     "text": [
      "p: True | q: False | p^q: False\n"
     ]
    }
   ],
   "source": [
    "dia = \"hoje\"\n",
    "caneta = \"preta\"\n",
    "\n",
    "p = (dia == \"hoje\")\n",
    "q = (caneta == \"azul\")\n",
    "\n",
    "print(\"p:\",p,\"| q:\",q,\"| p^q:\",p and q)"
   ]
  },
  {
   "cell_type": "markdown",
   "id": "709532ee-f6dc-40a9-96ad-dee0c304ed17",
   "metadata": {},
   "source": [
    "b) Alterar no código o dia=\"amanhã\" e testar(rodar);"
   ]
  },
  {
   "cell_type": "code",
   "execution_count": 26,
   "id": "eea2ddbc-9f2e-4081-b8a4-63555a1d604c",
   "metadata": {},
   "outputs": [
    {
     "name": "stdout",
     "output_type": "stream",
     "text": [
      "p: False | q: True | p^q: False\n"
     ]
    }
   ],
   "source": [
    "dia = \"amanhã\"\n",
    "caneta = \"azul\"\n",
    "\n",
    "p = (dia == \"hoje\")\n",
    "q = (caneta == \"azul\")\n",
    "\n",
    "print(\"p:\",p,\"| q:\",q,\"| p^q:\",p and q)"
   ]
  },
  {
   "cell_type": "markdown",
   "id": "ac101bcc-7fb5-4780-9173-a818fb7710b9",
   "metadata": {},
   "source": [
    "c) Alterar no código o dia=\"ontem\" e caneta=\"preta\" e testar(rodar);"
   ]
  },
  {
   "cell_type": "code",
   "execution_count": 27,
   "id": "6a50bacc-169f-472b-8c05-03eea979658e",
   "metadata": {},
   "outputs": [
    {
     "name": "stdout",
     "output_type": "stream",
     "text": [
      "p: False | q: False | p^q: False\n"
     ]
    }
   ],
   "source": [
    "dia = \"ontem\"\n",
    "caneta = \"preta\"\n",
    "\n",
    "p = (dia == \"hoje\")\n",
    "q = (caneta == \"azul\")\n",
    "\n",
    "print(\"p:\",p,\"| q:\",q,\"| p^q:\",p and q)"
   ]
  }
 ],
 "metadata": {
  "kernelspec": {
   "display_name": "Python 3 (ipykernel)",
   "language": "python",
   "name": "python3"
  },
  "language_info": {
   "codemirror_mode": {
    "name": "ipython",
    "version": 3
   },
   "file_extension": ".py",
   "mimetype": "text/x-python",
   "name": "python",
   "nbconvert_exporter": "python",
   "pygments_lexer": "ipython3",
   "version": "3.13.5"
  }
 },
 "nbformat": 4,
 "nbformat_minor": 5
}
