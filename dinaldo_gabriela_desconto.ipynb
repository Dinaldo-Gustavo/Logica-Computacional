{
 "cells": [
  {
   "cell_type": "markdown",
   "id": "c12c4a44-85fb-4163-8d64-ee5f52912ce5",
   "metadata": {},
   "source": [
    "Com base no código desenvolvido anteriormente, realizar as alterações conforme cada letra abaixo:"
   ]
  },
  {
   "cell_type": "markdown",
   "id": "c6beed5c-b593-4845-b29b-1aa724ebab4c",
   "metadata": {},
   "source": [
    "a) Pesquisar na internet quanto é o desconto na primeira compra em um site de relógios (Seiko, Tecnos e etc) e atualizar o valor no código e testar (rodar);"
   ]
  },
  {
   "cell_type": "code",
   "execution_count": null,
   "id": "36257b9a-621c-4676-90f7-2e566cc18454",
   "metadata": {},
   "outputs": [],
   "source": [
    "LIMITE_DESC = 10.0 # desconto no site da Tecnos foi de 10% na primeira compra\n",
    "\n",
    "desconto = float(input(\"Desconto concedido (%): \").replace(\",\", \".\"))\n",
    "aprovacao_gerencia = input(\"Há aprovação da gerência? (s/n): \").strip().lower().startswith(\"s\")\n",
    "\n",
    "p = (desconto > LIMITE_DESC)\n",
    "q = aprovacao_gerencia\n",
    "\n",
    "resultado = (not p) or q\n",
    "print(\"TRUE\" if resultado else \"FALSE\")"
   ]
  },
  {
   "cell_type": "markdown",
   "id": "3cc6c070-a77e-4931-b587-fc34ccb40e1c",
   "metadata": {},
   "source": [
    "b) Incluir mais uma entrada/proposição de conectivo Condicional, sendo esse um desconto, valor máximo, testar (rodar);"
   ]
  },
  {
   "cell_type": "code",
   "execution_count": 53,
   "id": "2c8f8adb-29fc-4016-86e3-6a5f2272bfe6",
   "metadata": {},
   "outputs": [
    {
     "name": "stdin",
     "output_type": "stream",
     "text": [
      "Desconto concedido (%):  15\n",
      "Há aprovação da gerência? (s/n):  n\n",
      "Quantas unidades do produto?  5\n"
     ]
    },
    {
     "name": "stdout",
     "output_type": "stream",
     "text": [
      "FALSE\n"
     ]
    }
   ],
   "source": [
    "LIMITE_DESC = 10.0 # desconto no site da Tecnos foi de 10%\n",
    "limite_uni = 20.0\n",
    "\n",
    "desconto = float(input(\"Desconto concedido (%): \").replace(\",\", \".\"))\n",
    "aprovacao_gerencia = input(\"Há aprovação da gerência? (s/n): \").strip().lower().startswith(\"s\")\n",
    "unidades = int(input(\"Quantas unidades do produto? \")) # acima de três unidades tem o desconto de 20%\n",
    "\n",
    "p = (desconto > LIMITE_DESC)\n",
    "q = aprovacao_gerencia\n",
    "r = (desconto > limite_uni and unidades >= 3)\n",
    "\n",
    "resultado = not p or q\n",
    "\n",
    "print(\"TRUE\" if resultado else \"FALSE\")"
   ]
  }
 ],
 "metadata": {
  "kernelspec": {
   "display_name": "Python 3 (ipykernel)",
   "language": "python",
   "name": "python3"
  },
  "language_info": {
   "codemirror_mode": {
    "name": "ipython",
    "version": 3
   },
   "file_extension": ".py",
   "mimetype": "text/x-python",
   "name": "python",
   "nbconvert_exporter": "python",
   "pygments_lexer": "ipython3",
   "version": "3.13.5"
  }
 },
 "nbformat": 4,
 "nbformat_minor": 5
}
