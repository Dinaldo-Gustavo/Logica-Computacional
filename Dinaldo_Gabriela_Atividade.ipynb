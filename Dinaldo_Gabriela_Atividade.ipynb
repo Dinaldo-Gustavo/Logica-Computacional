{
 "cells": [
  {
   "cell_type": "markdown",
   "id": "f37b76c5-fefd-48ee-b094-abf0fdf14dc4",
   "metadata": {},
   "source": [
    "### Com  base no código desenvolvido de condicional, realizar as alterações conforme cada letra abaixo:"
   ]
  },
  {
   "cell_type": "markdown",
   "id": "9b188649-3881-4496-82fe-1da91c3a15aa",
   "metadata": {},
   "source": [
    "a) Pesquisar na internet algo similar para a primeiro PROPOSIÇÃO, atualizar o contexto no código e testar (rodar);"
   ]
  },
  {
   "cell_type": "code",
   "execution_count": 4,
   "id": "41154000-c364-4684-9a5f-98faa9105117",
   "metadata": {},
   "outputs": [
    {
     "name": "stdin",
     "output_type": "stream",
     "text": [
      "Você tem encomenda para entregar? (s/n) s\n",
      "Você tem autorização do morador?(s/n) s\n"
     ]
    },
    {
     "name": "stdout",
     "output_type": "stream",
     "text": [
      "Entrada permitida\n"
     ]
    }
   ],
   "source": [
    "encomenda = input(\"Você tem encomenda para entregar? (s/n)\").strip().lower().startswith(\"s\")\n",
    "autorização = input(\"Você tem autorização do morador?(s/n)\").strip().lower().startswith(\"s\")\n",
    "\n",
    "if encomenda and not autorização:\n",
    "    print(\"Entrada não permitida\")\n",
    "else:\n",
    "    print(\"Entrada permitida\")"
   ]
  },
  {
   "cell_type": "code",
   "execution_count": 5,
   "id": "5d85586c-b945-41bc-b124-13a6c9b6ce4e",
   "metadata": {},
   "outputs": [
    {
     "name": "stdin",
     "output_type": "stream",
     "text": [
      "Você tem encomenda para entregar? (s/n) s\n",
      "Você tem autorização do morador?(s/n) n\n"
     ]
    },
    {
     "name": "stdout",
     "output_type": "stream",
     "text": [
      "Entrada não permitida\n"
     ]
    }
   ],
   "source": [
    "encomenda = input(\"Você tem encomenda para entregar? (s/n)\").strip().lower().startswith(\"s\")\n",
    "autorização = input(\"Você tem autorização do morador?(s/n)\").strip().lower().startswith(\"s\")\n",
    "\n",
    "if encomenda and not autorização:\n",
    "    print(\"Entrada não permitida\")\n",
    "else:\n",
    "    print(\"Entrada permitida\")"
   ]
  },
  {
   "cell_type": "code",
   "execution_count": 6,
   "id": "f78a8caa-6206-4906-9176-39d2f7816ebf",
   "metadata": {},
   "outputs": [
    {
     "name": "stdin",
     "output_type": "stream",
     "text": [
      "Você tem encomenda para entregar? (s/n) n\n",
      "Você tem autorização do morador?(s/n) s\n"
     ]
    },
    {
     "name": "stdout",
     "output_type": "stream",
     "text": [
      "Entrada permitida\n"
     ]
    }
   ],
   "source": [
    "encomenda = input(\"Você tem encomenda para entregar? (s/n)\").strip().lower().startswith(\"s\")\n",
    "autorização = input(\"Você tem autorização do morador?(s/n)\").strip().lower().startswith(\"s\")\n",
    "\n",
    "if encomenda and not autorização:\n",
    "    print(\"Entrada não permitida\")\n",
    "else:\n",
    "    print(\"Entrada permitida\")"
   ]
  },
  {
   "cell_type": "code",
   "execution_count": 7,
   "id": "cb17cb0c-0d68-4e5f-a675-84d57ede68c8",
   "metadata": {},
   "outputs": [
    {
     "name": "stdin",
     "output_type": "stream",
     "text": [
      "Você tem encomenda para entregar? (s/n) n\n",
      "Você tem autorização do morador?(s/n) n\n"
     ]
    },
    {
     "name": "stdout",
     "output_type": "stream",
     "text": [
      "Entrada permitida\n"
     ]
    }
   ],
   "source": [
    "encomenda = input(\"Você tem encomenda para entregar? (s/n)\").strip().lower().startswith(\"s\")\n",
    "autorização = input(\"Você tem autorização do morador?(s/n)\").strip().lower().startswith(\"s\")\n",
    "\n",
    "if encomenda and not autorização:\n",
    "    print(\"Entrada não permitida\")\n",
    "else:\n",
    "    print(\"Entrada permitida\")"
   ]
  },
  {
   "cell_type": "markdown",
   "id": "6e2210aa-717a-4cfc-8e40-07c3fa852dec",
   "metadata": {},
   "source": [
    "b) Pesquisar na internet SITUAÇÕES similares para a primeira PROPOSIÇÃO e para a segunda PROPOSIÇÃO, atualizar o contexto no código e testar (rodar);"
   ]
  },
  {
   "cell_type": "code",
   "execution_count": 3,
   "id": "4186729a-edba-4749-b191-1c2cca1db59b",
   "metadata": {},
   "outputs": [
    {
     "name": "stdin",
     "output_type": "stream",
     "text": [
      "O usuário tenta acessar conteúdo para maiores de 18? (s/n):  s\n",
      "A idade do usuário foi verificada? (s/n):  n\n"
     ]
    },
    {
     "name": "stdout",
     "output_type": "stream",
     "text": [
      "ACESSO BLOQUEADO: Conteúdo restrito sem verificação de idade.\n"
     ]
    }
   ],
   "source": [
    "acessa_conteudo_restrito = input(\"O usuário tenta acessar conteúdo para maiores de 18? (s/n): \").strip().lower().startswith(\"s\")\n",
    "idade_verificada = input(\"A idade do usuário foi verificada? (s/n): \").strip().lower().startswith(\"s\")\n",
    "\n",
    "if acessa_conteudo_restrito and not idade_verificada:\n",
    "    print(\"ACESSO BLOQUEADO: Conteúdo restrito sem verificação de idade.\")\n",
    "else:\n",
    "    print(\"ACESSO PERMITIDO: Política de acesso atendida.\")"
   ]
  },
  {
   "cell_type": "code",
   "execution_count": 8,
   "id": "201447e5-40ec-445d-9f0f-fe4cb4180570",
   "metadata": {},
   "outputs": [
    {
     "name": "stdin",
     "output_type": "stream",
     "text": [
      "O usuário tenta acessar conteúdo para maiores de 18? (s/n):  s\n",
      "A idade do usuário foi verificada? (s/n):  s\n"
     ]
    },
    {
     "name": "stdout",
     "output_type": "stream",
     "text": [
      "ACESSO PERMITIDO: Política de acesso atendida.\n"
     ]
    }
   ],
   "source": [
    "acessa_conteudo_restrito = input(\"O usuário tenta acessar conteúdo para maiores de 18? (s/n): \").strip().lower().startswith(\"s\")\n",
    "idade_verificada = input(\"A idade do usuário foi verificada? (s/n): \").strip().lower().startswith(\"s\")\n",
    "\n",
    "if acessa_conteudo_restrito and not idade_verificada:\n",
    "    print(\"ACESSO BLOQUEADO: Conteúdo restrito sem verificação de idade.\")\n",
    "else:\n",
    "    print(\"ACESSO PERMITIDO: Política de acesso atendida.\")"
   ]
  },
  {
   "cell_type": "code",
   "execution_count": 9,
   "id": "e6818c6d-ea0c-49c5-ad6b-41e3a85bb6ac",
   "metadata": {},
   "outputs": [
    {
     "name": "stdin",
     "output_type": "stream",
     "text": [
      "O usuário tenta acessar conteúdo para maiores de 18? (s/n):  s\n",
      "A idade do usuário foi verificada? (s/n):  n\n"
     ]
    },
    {
     "name": "stdout",
     "output_type": "stream",
     "text": [
      "ACESSO BLOQUEADO: Conteúdo restrito sem verificação de idade.\n"
     ]
    }
   ],
   "source": [
    "acessa_conteudo_restrito = input(\"O usuário tenta acessar conteúdo para maiores de 18? (s/n): \").strip().lower().startswith(\"s\")\n",
    "idade_verificada = input(\"A idade do usuário foi verificada? (s/n): \").strip().lower().startswith(\"s\")\n",
    "\n",
    "if acessa_conteudo_restrito and not idade_verificada:\n",
    "    print(\"ACESSO BLOQUEADO: Conteúdo restrito sem verificação de idade.\")\n",
    "else:\n",
    "    print(\"ACESSO PERMITIDO: Política de acesso atendida.\")"
   ]
  },
  {
   "cell_type": "code",
   "execution_count": 10,
   "id": "b9d3584b-942b-403d-972c-70cba65b95de",
   "metadata": {},
   "outputs": [
    {
     "name": "stdin",
     "output_type": "stream",
     "text": [
      "O usuário tenta acessar conteúdo para maiores de 18? (s/n):  n\n",
      "A idade do usuário foi verificada? (s/n):  s\n"
     ]
    },
    {
     "name": "stdout",
     "output_type": "stream",
     "text": [
      "ACESSO PERMITIDO: Política de acesso atendida.\n"
     ]
    }
   ],
   "source": [
    "acessa_conteudo_restrito = input(\"O usuário tenta acessar conteúdo para maiores de 18? (s/n): \").strip().lower().startswith(\"s\")\n",
    "idade_verificada = input(\"A idade do usuário foi verificada? (s/n): \").strip().lower().startswith(\"s\")\n",
    "\n",
    "if acessa_conteudo_restrito and not idade_verificada:\n",
    "    print(\"ACESSO BLOQUEADO: Conteúdo restrito sem verificação de idade.\")\n",
    "else:\n",
    "    print(\"ACESSO PERMITIDO: Política de acesso atendida.\")"
   ]
  },
  {
   "cell_type": "code",
   "execution_count": 11,
   "id": "4d7c4915-6e03-4c70-bd5a-bf211ead5cf0",
   "metadata": {},
   "outputs": [
    {
     "name": "stdin",
     "output_type": "stream",
     "text": [
      "O usuário tenta acessar conteúdo para maiores de 18? (s/n):  n\n",
      "A idade do usuário foi verificada? (s/n):  n\n"
     ]
    },
    {
     "name": "stdout",
     "output_type": "stream",
     "text": [
      "ACESSO PERMITIDO: Política de acesso atendida.\n"
     ]
    }
   ],
   "source": [
    "acessa_conteudo_restrito = input(\"O usuário tenta acessar conteúdo para maiores de 18? (s/n): \").strip().lower().startswith(\"s\")\n",
    "idade_verificada = input(\"A idade do usuário foi verificada? (s/n): \").strip().lower().startswith(\"s\")\n",
    "\n",
    "if acessa_conteudo_restrito and not idade_verificada:\n",
    "    print(\"ACESSO BLOQUEADO: Conteúdo restrito sem verificação de idade.\")\n",
    "else:\n",
    "    print(\"ACESSO PERMITIDO: Política de acesso atendida.\")"
   ]
  }
 ],
 "metadata": {
  "kernelspec": {
   "display_name": "Python 3 (ipykernel)",
   "language": "python",
   "name": "python3"
  },
  "language_info": {
   "codemirror_mode": {
    "name": "ipython",
    "version": 3
   },
   "file_extension": ".py",
   "mimetype": "text/x-python",
   "name": "python",
   "nbconvert_exporter": "python",
   "pygments_lexer": "ipython3",
   "version": "3.13.5"
  }
 },
 "nbformat": 4,
 "nbformat_minor": 5
}
