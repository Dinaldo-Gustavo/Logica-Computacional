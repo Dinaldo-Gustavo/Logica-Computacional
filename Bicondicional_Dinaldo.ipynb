{
 "cells": [
  {
   "cell_type": "markdown",
   "id": "95d16df8-0037-4bf1-9a08-98201e270f58",
   "metadata": {},
   "source": [
    "## BICONDICIONAL <->"
   ]
  },
  {
   "cell_type": "code",
   "execution_count": 6,
   "id": "5d64cb75-c9cd-4805-b08d-cd4e3b8ac07a",
   "metadata": {},
   "outputs": [
    {
     "name": "stdout",
     "output_type": "stream",
     "text": [
      "p: True | q: True | p -> q: True\n"
     ]
    }
   ],
   "source": [
    "# Bicondicional(<->): a lógica só é True quando p, q = True ou p, q = False \n",
    "\n",
    "# p: \"A prova é aplicada hoje\"\n",
    "# q: \"A prova é respondida à caneta azul\"\n",
    "\n",
    "dia = \"hoje\"\n",
    "caneta = \"azul\"\n",
    "\n",
    "p = (dia == \"hoje\")\n",
    "q = (caneta == \"azul\")\n",
    "\n",
    "print(\"p:\", p,\"| q:\", q, \"| p -> q:\", p == q ) # Só é FALSA quando p = True e q = False ou p = False e q = True"
   ]
  },
  {
   "cell_type": "code",
   "execution_count": 3,
   "id": "9ae1781d-8d33-437f-82e0-3c1bbb10da88",
   "metadata": {},
   "outputs": [
    {
     "name": "stdout",
     "output_type": "stream",
     "text": [
      "p: False | q: True | p -> q: False\n"
     ]
    }
   ],
   "source": [
    "# p: \"A prova é aplicada hoje\"\n",
    "# q: \"A prova é respondida à caneta azul\"\n",
    "\n",
    "dia = \"amanhã\"\n",
    "caneta = \"azul\"\n",
    "\n",
    "p = (dia == \"hoje\")\n",
    "q = (caneta == \"azul\")\n",
    "\n",
    "print(\"p:\", p,\"| q:\", q, \"| p -> q:\", p == q ) # Só é FALSA quando p = True e q = False ou p = False e q = True"
   ]
  },
  {
   "cell_type": "code",
   "execution_count": 4,
   "id": "f876025b-6a37-47ce-a510-9e07aa25f8db",
   "metadata": {},
   "outputs": [
    {
     "name": "stdout",
     "output_type": "stream",
     "text": [
      "p: True | q: False | p -> q: False\n"
     ]
    }
   ],
   "source": [
    "# p: \"A prova é aplicada hoje\"\n",
    "# q: \"A prova é respondida à caneta azul\"\n",
    "\n",
    "dia = \"hoje\"\n",
    "caneta = \"preta\"\n",
    "\n",
    "p = (dia == \"hoje\")\n",
    "q = (caneta == \"azul\")\n",
    "\n",
    "print(\"p:\", p,\"| q:\", q, \"| p -> q:\", p == q ) # Só é FALSA quando p = True e q = False ou p = False e q = True"
   ]
  },
  {
   "cell_type": "code",
   "execution_count": 5,
   "id": "3fc1f9ae-e7d4-488f-9d97-02ad84d944cf",
   "metadata": {},
   "outputs": [
    {
     "name": "stdout",
     "output_type": "stream",
     "text": [
      "p: False | q: False | p -> q: True\n"
     ]
    }
   ],
   "source": [
    "# p: \"A prova é aplicada hoje\"\n",
    "# q: \"A prova é respondida à caneta azul\"\n",
    "\n",
    "dia = \"amanhã\"\n",
    "caneta = \"preta\"\n",
    "\n",
    "p = (dia == \"hoje\")\n",
    "q = (caneta == \"azul\")\n",
    "\n",
    "print(\"p:\", p,\"| q:\", q, \"| p -> q:\", p == q ) # Só é FALSA quando p = True e q = False ou p = False e q = True"
   ]
  }
 ],
 "metadata": {
  "kernelspec": {
   "display_name": "Python 3 (ipykernel)",
   "language": "python",
   "name": "python3"
  },
  "language_info": {
   "codemirror_mode": {
    "name": "ipython",
    "version": 3
   },
   "file_extension": ".py",
   "mimetype": "text/x-python",
   "name": "python",
   "nbconvert_exporter": "python",
   "pygments_lexer": "ipython3",
   "version": "3.13.5"
  }
 },
 "nbformat": 4,
 "nbformat_minor": 5
}
