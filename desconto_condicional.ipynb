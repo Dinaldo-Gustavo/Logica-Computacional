{
 "cells": [
  {
   "cell_type": "code",
   "execution_count": 3,
   "id": "e086f951-e719-4983-993d-2eb8ca6954df",
   "metadata": {},
   "outputs": [
    {
     "name": "stdin",
     "output_type": "stream",
     "text": [
      "Desconto concedido (%):  5\n",
      "Há aprovação da gerência? (s/n):  n\n"
     ]
    },
    {
     "name": "stdout",
     "output_type": "stream",
     "text": [
      "TRUE\n"
     ]
    }
   ],
   "source": [
    "LIMITE_DESC = 10.0\n",
    "\n",
    "desconto = float(input(\"Desconto concedido (%): \").replace(\",\", \".\"))\n",
    "aprovacao_gerencia = input(\"Há aprovação da gerência? (s/n): \").strip().lower().startswith(\"s\")\n",
    "\n",
    "p = (desconto > LIMITE_DESC)\n",
    "q = aprovacao_gerencia\n",
    "\n",
    "resultado = (not p) or q\n",
    "print(\"TRUE\" if resultado else \"FALSE\")"
   ]
  },
  {
   "cell_type": "code",
   "execution_count": null,
   "id": "0c03dbb2-0d64-4865-8469-c6dbbb31eb8d",
   "metadata": {},
   "outputs": [],
   "source": []
  }
 ],
 "metadata": {
  "kernelspec": {
   "display_name": "Python 3 (ipykernel)",
   "language": "python",
   "name": "python3"
  },
  "language_info": {
   "codemirror_mode": {
    "name": "ipython",
    "version": 3
   },
   "file_extension": ".py",
   "mimetype": "text/x-python",
   "name": "python",
   "nbconvert_exporter": "python",
   "pygments_lexer": "ipython3",
   "version": "3.13.5"
  }
 },
 "nbformat": 4,
 "nbformat_minor": 5
}
