{
 "cells": [
  {
   "cell_type": "code",
   "execution_count": 30,
   "id": "68d79156-14b1-4fd1-b20e-9b3a81327bce",
   "metadata": {},
   "outputs": [
    {
     "name": "stdout",
     "output_type": "stream",
     "text": [
      "\n",
      "p = True\n",
      "q = True\n",
      "\n",
      "p -> q = True\n",
      "p <-> q = True\n",
      "p ^ q = True\n",
      "p v q = True\n",
      "~ p ~ q = False \n"
     ]
    }
   ],
   "source": [
    "# p = \"A festa será de noite\"\n",
    "# q = \"A cor da roupa é preta\"\n",
    "\n",
    "periodo = \"noite\"\n",
    "cor_roupa= \"preta\"\n",
    "\n",
    "p = (periodo==\"noite\")\n",
    "q = (cor_roupa==\"preta\")\n",
    "\n",
    "cond = (not p) or q\n",
    "bicond = p == q\n",
    "conj = p and q\n",
    "disj = p or q\n",
    "nega = not p and not q\n",
    "print(f\"\"\"\n",
    "p = {p}\n",
    "q = {q}\n",
    "\n",
    "p -> q = {cond}\n",
    "p <-> q = {bicond}\n",
    "p ^ q = {conj}\n",
    "p v q = {disj}\n",
    "~ p ~ q = {nega} \"\"\")"
   ]
  },
  {
   "cell_type": "code",
   "execution_count": 31,
   "id": "d3d9d178-5ecb-4e56-9979-8666e6b4cd9b",
   "metadata": {},
   "outputs": [
    {
     "name": "stdout",
     "output_type": "stream",
     "text": [
      "\n",
      "p = False\n",
      "q = True\n",
      "\n",
      "p -> q = True\n",
      "p <-> q = False\n",
      "p ^ q = False\n",
      "p v q = True\n",
      "~ p ~ q = False \n"
     ]
    }
   ],
   "source": [
    "# p = \"A festa será de noite\"\n",
    "# q = \"A cor da roupa é preta\"\n",
    "\n",
    "periodo = \"dia\"\n",
    "cor_roupa= \"preta\"\n",
    "\n",
    "p = (periodo==\"noite\")\n",
    "q = (cor_roupa==\"preta\")\n",
    "\n",
    "cond = (not p) or q\n",
    "bicond = p == q\n",
    "conj = p and q\n",
    "disj = p or q\n",
    "nega = not p and not q\n",
    "print(f\"\"\"\n",
    "p = {p}\n",
    "q = {q}\n",
    "\n",
    "p -> q = {cond}\n",
    "p <-> q = {bicond}\n",
    "p ^ q = {conj}\n",
    "p v q = {disj}\n",
    "~ p ~ q = {nega} \"\"\")"
   ]
  },
  {
   "cell_type": "code",
   "execution_count": 32,
   "id": "9965a0a7-a759-4038-95e5-96a2a005d032",
   "metadata": {},
   "outputs": [
    {
     "name": "stdout",
     "output_type": "stream",
     "text": [
      "\n",
      "p = True\n",
      "q = False\n",
      "\n",
      "p -> q = False\n",
      "p <-> q = False\n",
      "p ^ q = False\n",
      "p v q = True\n",
      "~ p ~ q = False \n"
     ]
    }
   ],
   "source": [
    "# p = \"A festa será de noite\"\n",
    "# q = \"A cor da roupa é preta\"\n",
    "\n",
    "periodo = \"noite\"\n",
    "cor_roupa= \"branca\"\n",
    "\n",
    "p = (periodo==\"noite\")\n",
    "q = (cor_roupa==\"preta\")\n",
    "\n",
    "cond = (not p) or q\n",
    "bicond = p == q\n",
    "conj = p and q\n",
    "disj = p or q\n",
    "nega = not p and not q\n",
    "print(f\"\"\"\n",
    "p = {p}\n",
    "q = {q}\n",
    "\n",
    "p -> q = {cond}\n",
    "p <-> q = {bicond}\n",
    "p ^ q = {conj}\n",
    "p v q = {disj}\n",
    "~ p ~ q = {nega} \"\"\")"
   ]
  },
  {
   "cell_type": "code",
   "execution_count": 33,
   "id": "d2afa634-1885-4f28-9e15-cb8b5e328b5d",
   "metadata": {},
   "outputs": [
    {
     "name": "stdout",
     "output_type": "stream",
     "text": [
      "\n",
      "p = False\n",
      "q = False\n",
      "\n",
      "p -> q = True\n",
      "p <-> q = True\n",
      "p ^ q = False\n",
      "p v q = False\n",
      "~ p ~ q = True \n"
     ]
    }
   ],
   "source": [
    "# p = \"A festa será de noite\"\n",
    "# q = \"A cor da roupa é preta\"\n",
    "\n",
    "periodo = \"dia\"\n",
    "cor_roupa= \"branca\"\n",
    "\n",
    "p = (periodo==\"noite\")\n",
    "q = (cor_roupa==\"preta\")\n",
    "\n",
    "cond = (not p) or q\n",
    "bicond = p == q\n",
    "conj = p and q\n",
    "disj = p or q\n",
    "nega = not p and not q\n",
    "print(f\"\"\"\n",
    "p = {p}\n",
    "q = {q}\n",
    "\n",
    "p -> q = {cond}\n",
    "p <-> q = {bicond}\n",
    "p ^ q = {conj}\n",
    "p v q = {disj}\n",
    "~ p ~ q = {nega} \"\"\")"
   ]
  },
  {
   "cell_type": "code",
   "execution_count": null,
   "id": "49b2ac04-0c8b-4312-a55d-8b1fb1f957fc",
   "metadata": {},
   "outputs": [],
   "source": []
  }
 ],
 "metadata": {
  "kernelspec": {
   "display_name": "Python 3 (ipykernel)",
   "language": "python",
   "name": "python3"
  },
  "language_info": {
   "codemirror_mode": {
    "name": "ipython",
    "version": 3
   },
   "file_extension": ".py",
   "mimetype": "text/x-python",
   "name": "python",
   "nbconvert_exporter": "python",
   "pygments_lexer": "ipython3",
   "version": "3.13.5"
  }
 },
 "nbformat": 4,
 "nbformat_minor": 5
}
