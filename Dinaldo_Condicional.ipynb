{
 "cells": [
  {
   "cell_type": "code",
   "execution_count": 4,
   "id": "582f6f3f-dd23-4ea9-867b-15c96f335589",
   "metadata": {},
   "outputs": [
    {
     "name": "stdin",
     "output_type": "stream",
     "text": [
      "O modelo usa PII? (s/n):  s\n",
      "Há consentimento/base legal? (s/n):  s\n"
     ]
    },
    {
     "name": "stdout",
     "output_type": "stream",
     "text": [
      "OK: política atendida.\n"
     ]
    }
   ],
   "source": [
    "usa_PII = input(\"O modelo usa PII? (s/n): \").strip().lower().startswith(\"s\")\n",
    "consentimento_ou_base_legal = input(\"Há consentimento/base legal? (s/n): \").strip().lower().startswith(\"s\")\n",
    "\n",
    "if usa_PII and not consentimento_ou_base_legal:\n",
    "    print(\"BLOQUEADO: PII sem base legal.\")\n",
    "else:\n",
    "    print(\"OK: política atendida.\")"
   ]
  },
  {
   "cell_type": "code",
   "execution_count": 5,
   "id": "3babf540-dfce-4904-a7e4-2c8e7920d2c8",
   "metadata": {},
   "outputs": [
    {
     "name": "stdin",
     "output_type": "stream",
     "text": [
      "O modelo usa PII? (s/n):  s\n",
      "Há consentimento/base legal? (s/n):  n\n"
     ]
    },
    {
     "name": "stdout",
     "output_type": "stream",
     "text": [
      "BLOQUEADO: PII sem base legal.\n"
     ]
    }
   ],
   "source": [
    "usa_PII = input(\"O modelo usa PII? (s/n): \").strip().lower().startswith(\"s\")\n",
    "consentimento_ou_base_legal = input(\"Há consentimento/base legal? (s/n): \").strip().lower().startswith(\"s\")\n",
    "\n",
    "if usa_PII and not consentimento_ou_base_legal:\n",
    "    print(\"BLOQUEADO: PII sem base legal.\")\n",
    "else:\n",
    "    print(\"OK: política atendida.\")"
   ]
  },
  {
   "cell_type": "code",
   "execution_count": 6,
   "id": "5e0547c4-1188-43d5-9a6b-5627de214338",
   "metadata": {},
   "outputs": [
    {
     "name": "stdin",
     "output_type": "stream",
     "text": [
      "O modelo usa PII? (s/n):  n\n",
      "Há consentimento/base legal? (s/n):  s\n"
     ]
    },
    {
     "name": "stdout",
     "output_type": "stream",
     "text": [
      "OK: política atendida.\n"
     ]
    }
   ],
   "source": [
    "usa_PII = input(\"O modelo usa PII? (s/n): \").strip().lower().startswith(\"s\")\n",
    "consentimento_ou_base_legal = input(\"Há consentimento/base legal? (s/n): \").strip().lower().startswith(\"s\")\n",
    "\n",
    "if usa_PII and not consentimento_ou_base_legal:\n",
    "    print(\"BLOQUEADO: PII sem base legal.\")\n",
    "else:\n",
    "    print(\"OK: política atendida.\")"
   ]
  },
  {
   "cell_type": "code",
   "execution_count": 7,
   "id": "a4e00321-cc24-45fe-9812-e49209acb370",
   "metadata": {},
   "outputs": [
    {
     "name": "stdin",
     "output_type": "stream",
     "text": [
      "O modelo usa PII? (s/n):  n\n",
      "Há consentimento/base legal? (s/n):  n\n"
     ]
    },
    {
     "name": "stdout",
     "output_type": "stream",
     "text": [
      "OK: política atendida.\n"
     ]
    }
   ],
   "source": [
    "usa_PII = input(\"O modelo usa PII? (s/n): \").strip().lower().startswith(\"s\")\n",
    "consentimento_ou_base_legal = input(\"Há consentimento/base legal? (s/n): \").strip().lower().startswith(\"s\")\n",
    "\n",
    "if usa_PII and not consentimento_ou_base_legal:\n",
    "    print(\"BLOQUEADO: PII sem base legal.\")\n",
    "else:\n",
    "    print(\"OK: política atendida.\")"
   ]
  }
 ],
 "metadata": {
  "kernelspec": {
   "display_name": "Python 3 (ipykernel)",
   "language": "python",
   "name": "python3"
  },
  "language_info": {
   "codemirror_mode": {
    "name": "ipython",
    "version": 3
   },
   "file_extension": ".py",
   "mimetype": "text/x-python",
   "name": "python",
   "nbconvert_exporter": "python",
   "pygments_lexer": "ipython3",
   "version": "3.13.5"
  }
 },
 "nbformat": 4,
 "nbformat_minor": 5
}
