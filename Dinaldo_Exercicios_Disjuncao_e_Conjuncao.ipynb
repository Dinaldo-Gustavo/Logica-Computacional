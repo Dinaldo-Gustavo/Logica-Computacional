{
 "cells": [
  {
   "cell_type": "markdown",
   "id": "be8eb1a0-a189-4dfd-b9d5-ab08ca44624f",
   "metadata": {},
   "source": [
    "## DISJUNÇÃO V E CONJUNÇÃO ⋀"
   ]
  },
  {
   "cell_type": "code",
   "execution_count": 12,
   "id": "8e7c6158-68da-43da-a57e-cdb95146ec98",
   "metadata": {},
   "outputs": [
    {
     "name": "stdout",
     "output_type": "stream",
     "text": [
      "p = True | q = True\n",
      "p^q = True (True só se for hoje E azul)\n",
      "pVq = True (True se for hoje OU azul, ou ambos)\n"
     ]
    }
   ],
   "source": [
    "# p: A prova é aplicada hoje\"\n",
    "# q: A prova é respondida à caneta azul\"\n",
    "\n",
    "dia = \"hoje\"\n",
    "caneta = \"azul\"\n",
    "\n",
    "p = (dia == \"hoje\")\n",
    "q = (caneta == \"azul\")\n",
    "\n",
    "conj = p and q # Conjunção (E)\n",
    "disj = p or q # Disjunção (OU)\n",
    "\n",
    "print(f\"p = {p} | q = {q}\")\n",
    "print(f\"p^q = {conj} (True só se for hoje E azul)\") \n",
    "print(f\"pVq = {disj} (True se for hoje OU azul, ou ambos)\")"
   ]
  },
  {
   "cell_type": "markdown",
   "id": "370f7ff6-64bf-4715-bb45-cf1dd8f64d13",
   "metadata": {},
   "source": [
    "### 3º Exercício Proposto"
   ]
  },
  {
   "cell_type": "markdown",
   "id": "dd0187cf-a7e4-4df7-9c4f-7be533de4dda",
   "metadata": {},
   "source": [
    "a) Alterar no código a cor da caneta=\"verde\" e testar(rodar);"
   ]
  },
  {
   "cell_type": "code",
   "execution_count": 14,
   "id": "b3a49e74-8803-4294-b908-f83246cc8dd4",
   "metadata": {},
   "outputs": [
    {
     "name": "stdout",
     "output_type": "stream",
     "text": [
      "p = True | q = False\n",
      "p^q = False (True só se for hoje E azul)\n",
      "pVq = True (True se for hoje OU azul, ou ambos)\n"
     ]
    }
   ],
   "source": [
    "dia = \"hoje\"\n",
    "caneta = \"verde\"\n",
    "\n",
    "p = (dia == \"hoje\")\n",
    "q = (caneta == \"azul\")\n",
    "\n",
    "conj = p and q # Conjunção (E)\n",
    "disj = p or q # Disjunção (OU)\n",
    "\n",
    "print(f\"p = {p} | q = {q}\")\n",
    "print(f\"p^q = {conj} (True só se for hoje E azul)\") \n",
    "print(f\"pVq = {disj} (True se for hoje OU azul, ou ambos)\")"
   ]
  },
  {
   "cell_type": "markdown",
   "id": "eae40e18-f7c4-4ef0-ad0a-d874f303db94",
   "metadata": {},
   "source": [
    "b) Alterar no código o dia=\"ontem\" e testar(rodar);"
   ]
  },
  {
   "cell_type": "code",
   "execution_count": 15,
   "id": "c5fee489-0657-4a82-9666-fb99294d18ee",
   "metadata": {},
   "outputs": [
    {
     "name": "stdout",
     "output_type": "stream",
     "text": [
      "p = False | q = True\n",
      "p^q = False (True só se for hoje E azul)\n",
      "pVq = True (True se for hoje OU azul, ou ambos)\n"
     ]
    }
   ],
   "source": [
    "dia = \"ontem\"\n",
    "caneta = \"azul\"\n",
    "\n",
    "p = (dia == \"hoje\")\n",
    "q = (caneta == \"azul\")\n",
    "\n",
    "conj = p and q # Conjunção (E)\n",
    "disj = p or q # Disjunção (OU)\n",
    "\n",
    "print(f\"p = {p} | q = {q}\")\n",
    "print(f\"p^q = {conj} (True só se for hoje E azul)\") \n",
    "print(f\"pVq = {disj} (True se for hoje OU azul, ou ambos)\")"
   ]
  },
  {
   "cell_type": "markdown",
   "id": "7fb95b89-c9c7-4913-bf38-091ca2728889",
   "metadata": {},
   "source": [
    "c) Alterar no código o dia=\"amanhã\" e caneta=\"preta\" e testar (rodar);"
   ]
  },
  {
   "cell_type": "code",
   "execution_count": 17,
   "id": "2b90ae50-f37f-4ed4-9015-d0989012caee",
   "metadata": {},
   "outputs": [
    {
     "name": "stdout",
     "output_type": "stream",
     "text": [
      "p = False | q = False\n",
      "p^q = False (True só se for hoje E azul)\n",
      "pVq = False (True se for hoje OU azul, ou ambos)\n"
     ]
    }
   ],
   "source": [
    "dia = \"amanhã\"\n",
    "caneta = \"preta\"\n",
    "\n",
    "p = (dia == \"hoje\")\n",
    "q = (caneta == \"azul\")\n",
    "\n",
    "conj = p and q # Conjunção (E)\n",
    "disj = p or q # Disjunção (OU)\n",
    "\n",
    "print(f\"p = {p} | q = {q}\")\n",
    "print(f\"p^q = {conj} (True só se for hoje E azul)\") \n",
    "print(f\"pVq = {disj} (True se for hoje OU azul, ou ambos)\")"
   ]
  },
  {
   "cell_type": "code",
   "execution_count": null,
   "id": "3d317576-6976-4ec5-9520-25ec7d72aebd",
   "metadata": {},
   "outputs": [],
   "source": []
  }
 ],
 "metadata": {
  "kernelspec": {
   "display_name": "Python 3 (ipykernel)",
   "language": "python",
   "name": "python3"
  },
  "language_info": {
   "codemirror_mode": {
    "name": "ipython",
    "version": 3
   },
   "file_extension": ".py",
   "mimetype": "text/x-python",
   "name": "python",
   "nbconvert_exporter": "python",
   "pygments_lexer": "ipython3",
   "version": "3.13.5"
  }
 },
 "nbformat": 4,
 "nbformat_minor": 5
}
