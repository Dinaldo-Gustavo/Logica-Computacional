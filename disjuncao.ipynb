{
 "cells": [
  {
   "cell_type": "markdown",
   "id": "e373b052-75da-4d0e-8305-cd05749fa753",
   "metadata": {},
   "source": [
    "## DISJUNÇÃO V"
   ]
  },
  {
   "cell_type": "code",
   "execution_count": 1,
   "id": "708120f5-8cf9-48d8-b393-6b6965ab0189",
   "metadata": {},
   "outputs": [],
   "source": [
    "# Aceito/True convite para reunião se for (1º data = terça-feira) OU (2º data = quinta-feira); senão FALSE"
   ]
  },
  {
   "cell_type": "code",
   "execution_count": 9,
   "id": "6336c1a2-5a0e-4e94-b613-5326db3929c3",
   "metadata": {},
   "outputs": [
    {
     "name": "stdin",
     "output_type": "stream",
     "text": [
      "1º data de reunião (ex: terça):  terça\n",
      "2º data da reunião (ex: quinta):  quinta\n",
      "3º data da reunião (ex: segunda):  segunda\n"
     ]
    },
    {
     "name": "stdout",
     "output_type": "stream",
     "text": [
      "Reunião Agendada/True\n"
     ]
    }
   ],
   "source": [
    "# 1) Entradas\n",
    "primeira_data = input(\"1º data de reunião (ex: terça): \")\n",
    "segunda_data = input(\"2º data da reunião (ex: quinta): \")\n",
    "terceira_data = input(\"3º data da reunião (ex: segunda): \")\n",
    "\n",
    "# 2) Proposições (True/False) -- normaliza espaços e caixa\n",
    "p = (primeira_data.strip().lower() == \"terça\") # primeira data da semana na agenda\n",
    "q = (segunda_data.strip().lower() == \"quinta\") # segunda data da semana na agenda\n",
    "r = (terceira_data.strip().lower() == \"segunda\") # terceira data da semana na agenda\n",
    "\n",
    "# 3) Disjunção  (OU lógico)\n",
    "if p or q or r:\n",
    "     print(\"Reunião Agendada/True\")\n",
    "else:\n",
    "    print(\"Reunião não Agendada/False\")"
   ]
  },
  {
   "cell_type": "code",
   "execution_count": 10,
   "id": "20cd613b-7990-411c-b88e-f3899965b22a",
   "metadata": {},
   "outputs": [
    {
     "name": "stdin",
     "output_type": "stream",
     "text": [
      "1º data de reunião (ex: terça):  domingo\n",
      "2º data da reunião (ex: quinta):  quinta\n",
      "3º data da reunião (ex: segunda):  segunda\n"
     ]
    },
    {
     "name": "stdout",
     "output_type": "stream",
     "text": [
      "Reunião Agendada/True\n"
     ]
    }
   ],
   "source": [
    "# 1) Entradas\n",
    "primeira_data = input(\"1º data de reunião (ex: terça): \")\n",
    "segunda_data = input(\"2º data da reunião (ex: quinta): \")\n",
    "terceira_data = input(\"3º data da reunião (ex: segunda): \")\n",
    "\n",
    "# 2) Proposições (True/False) -- normaliza espaços e caixa\n",
    "p = (primeira_data.strip().lower() == \"terça\") # primeira data da semana na agenda\n",
    "q = (segunda_data.strip().lower() == \"quinta\") # segunda data da semana na agenda\n",
    "r = (terceira_data.strip().lower() == \"segunda\") # terceira data da semana na agenda\n",
    "\n",
    "# 3) Disjunção  (OU lógico)\n",
    "if p or q or r:\n",
    "     print(\"Reunião Agendada/True\")\n",
    "else:\n",
    "    print(\"Reunião não Agendada/False\")"
   ]
  },
  {
   "cell_type": "code",
   "execution_count": 11,
   "id": "8e0bf15d-26b1-4139-af13-d545b22f7059",
   "metadata": {},
   "outputs": [
    {
     "name": "stdin",
     "output_type": "stream",
     "text": [
      "1º data de reunião (ex: terça):  terça\n",
      "2º data da reunião (ex: quinta):  domingo\n",
      "3º data da reunião (ex: segunda):  segunda\n"
     ]
    },
    {
     "name": "stdout",
     "output_type": "stream",
     "text": [
      "Reunião Agendada/True\n"
     ]
    }
   ],
   "source": [
    "# 1) Entradas\n",
    "primeira_data = input(\"1º data de reunião (ex: terça): \")\n",
    "segunda_data = input(\"2º data da reunião (ex: quinta): \")\n",
    "terceira_data = input(\"3º data da reunião (ex: segunda): \")\n",
    "\n",
    "# 2) Proposições (True/False) -- normaliza espaços e caixa\n",
    "p = (primeira_data.strip().lower() == \"terça\") # primeira data da semana na agenda\n",
    "q = (segunda_data.strip().lower() == \"quinta\") # segunda data da semana na agenda\n",
    "r = (terceira_data.strip().lower() == \"segunda\") # terceira data da semana na agenda\n",
    "\n",
    "# 3) Disjunção  (OU lógico)\n",
    "if p or q or r:\n",
    "     print(\"Reunião Agendada/True\")\n",
    "else:\n",
    "    print(\"Reunião não Agendada/False\")"
   ]
  },
  {
   "cell_type": "code",
   "execution_count": 13,
   "id": "5c8bd37f-7913-41ec-a22f-809b67a4458f",
   "metadata": {},
   "outputs": [
    {
     "name": "stdin",
     "output_type": "stream",
     "text": [
      "1º data de reunião (ex: terça):  terça\n",
      "2º data da reunião (ex: quinta):  quinta\n",
      "3º data da reunião (ex: segunda):  domingo\n"
     ]
    },
    {
     "name": "stdout",
     "output_type": "stream",
     "text": [
      "Reunião Agendada/True\n"
     ]
    }
   ],
   "source": [
    "# 1) Entradas\n",
    "primeira_data = input(\"1º data de reunião (ex: terça): \")\n",
    "segunda_data = input(\"2º data da reunião (ex: quinta): \")\n",
    "terceira_data = input(\"3º data da reunião (ex: segunda): \")\n",
    "\n",
    "# 2) Proposições (True/False) -- normaliza espaços e caixa\n",
    "p = (primeira_data.strip().lower() == \"terça\") # primeira data da semana na agenda\n",
    "q = (segunda_data.strip().lower() == \"quinta\") # segunda data da semana na agenda\n",
    "r = (terceira_data.strip().lower() == \"segunda\") # terceira data da semana na agenda\n",
    "\n",
    "# 3) Disjunção  (OU lógico)\n",
    "if p or q or r:\n",
    "     print(\"Reunião Agendada/True\")\n",
    "else:\n",
    "    print(\"Reunião não Agendada/False\")"
   ]
  },
  {
   "cell_type": "code",
   "execution_count": 14,
   "id": "a42ae2d6-d113-494a-b7fd-14fc060c7d2e",
   "metadata": {},
   "outputs": [
    {
     "name": "stdin",
     "output_type": "stream",
     "text": [
      "1º data de reunião (ex: terça):  sábado\n",
      "2º data da reunião (ex: quinta):  domingo\n",
      "3º data da reunião (ex: segunda):  segunda\n"
     ]
    },
    {
     "name": "stdout",
     "output_type": "stream",
     "text": [
      "Reunião Agendada/True\n"
     ]
    }
   ],
   "source": [
    "# 1) Entradas\n",
    "primeira_data = input(\"1º data de reunião (ex: terça): \")\n",
    "segunda_data = input(\"2º data da reunião (ex: quinta): \")\n",
    "terceira_data = input(\"3º data da reunião (ex: segunda): \")\n",
    "\n",
    "# 2) Proposições (True/False) -- normaliza espaços e caixa\n",
    "p = (primeira_data.strip().lower() == \"terça\") # primeira data da semana na agenda\n",
    "q = (segunda_data.strip().lower() == \"quinta\") # segunda data da semana na agenda\n",
    "r = (terceira_data.strip().lower() == \"segunda\") # terceira data da semana na agenda\n",
    "\n",
    "# 3) Disjunção  (OU lógico)\n",
    "if p or q or r:\n",
    "     print(\"Reunião Agendada/True\")\n",
    "else:\n",
    "    print(\"Reunião não Agendada/False\")"
   ]
  },
  {
   "cell_type": "code",
   "execution_count": 15,
   "id": "effe5575-757b-4ba4-a5b4-724478156403",
   "metadata": {},
   "outputs": [
    {
     "name": "stdin",
     "output_type": "stream",
     "text": [
      "1º data de reunião (ex: terça):  terça\n",
      "2º data da reunião (ex: quinta):  sábado\n",
      "3º data da reunião (ex: segunda):  domingo\n"
     ]
    },
    {
     "name": "stdout",
     "output_type": "stream",
     "text": [
      "Reunião Agendada/True\n"
     ]
    }
   ],
   "source": [
    "# 1) Entradas\n",
    "primeira_data = input(\"1º data de reunião (ex: terça): \")\n",
    "segunda_data = input(\"2º data da reunião (ex: quinta): \")\n",
    "terceira_data = input(\"3º data da reunião (ex: segunda): \")\n",
    "\n",
    "# 2) Proposições (True/False) -- normaliza espaços e caixa\n",
    "p = (primeira_data.strip().lower() == \"terça\") # primeira data da semana na agenda\n",
    "q = (segunda_data.strip().lower() == \"quinta\") # segunda data da semana na agenda\n",
    "r = (terceira_data.strip().lower() == \"segunda\") # terceira data da semana na agenda\n",
    "\n",
    "# 3) Disjunção  (OU lógico)\n",
    "if p or q or r:\n",
    "     print(\"Reunião Agendada/True\")\n",
    "else:\n",
    "    print(\"Reunião não Agendada/False\")"
   ]
  },
  {
   "cell_type": "code",
   "execution_count": 16,
   "id": "a86709a5-3342-4ed5-a263-a467177975c5",
   "metadata": {},
   "outputs": [
    {
     "name": "stdin",
     "output_type": "stream",
     "text": [
      "1º data de reunião (ex: terça):  sábado\n",
      "2º data da reunião (ex: quinta):  quinta\n",
      "3º data da reunião (ex: segunda):  domingo\n"
     ]
    },
    {
     "name": "stdout",
     "output_type": "stream",
     "text": [
      "Reunião Agendada/True\n"
     ]
    }
   ],
   "source": [
    "# 1) Entradas\n",
    "primeira_data = input(\"1º data de reunião (ex: terça): \")\n",
    "segunda_data = input(\"2º data da reunião (ex: quinta): \")\n",
    "terceira_data = input(\"3º data da reunião (ex: segunda): \")\n",
    "\n",
    "# 2) Proposições (True/False) -- normaliza espaços e caixa\n",
    "p = (primeira_data.strip().lower() == \"terça\") # primeira data da semana na agenda\n",
    "q = (segunda_data.strip().lower() == \"quinta\") # segunda data da semana na agenda\n",
    "r = (terceira_data.strip().lower() == \"segunda\") # terceira data da semana na agenda\n",
    "\n",
    "# 3) Disjunção  (OU lógico)\n",
    "if p or q or r:\n",
    "     print(\"Reunião Agendada/True\")\n",
    "else:\n",
    "    print(\"Reunião não Agendada/False\")"
   ]
  },
  {
   "cell_type": "code",
   "execution_count": 17,
   "id": "1446bfa1-068e-4ea6-8ba8-01713b1b2b0b",
   "metadata": {},
   "outputs": [
    {
     "name": "stdin",
     "output_type": "stream",
     "text": [
      "1º data de reunião (ex: terça):  sábado\n",
      "2º data da reunião (ex: quinta):  domingo\n",
      "3º data da reunião (ex: segunda):  quarta\n"
     ]
    },
    {
     "name": "stdout",
     "output_type": "stream",
     "text": [
      "Reunião não Agendada/False\n"
     ]
    }
   ],
   "source": [
    "# 1) Entradas\n",
    "primeira_data = input(\"1º data de reunião (ex: terça): \")\n",
    "segunda_data = input(\"2º data da reunião (ex: quinta): \")\n",
    "terceira_data = input(\"3º data da reunião (ex: segunda): \")\n",
    "\n",
    "# 2) Proposições (True/False) -- normaliza espaços e caixa\n",
    "p = (primeira_data.strip().lower() == \"terça\") # primeira data da semana na agenda\n",
    "q = (segunda_data.strip().lower() == \"quinta\") # segunda data da semana na agenda\n",
    "r = (terceira_data.strip().lower() == \"segunda\") # terceira data da semana na agenda\n",
    "\n",
    "# 3) Disjunção  (OU lógico)\n",
    "if p or q or r:\n",
    "     print(\"Reunião Agendada/True\")\n",
    "else:\n",
    "    print(\"Reunião não Agendada/False\")"
   ]
  },
  {
   "cell_type": "code",
   "execution_count": null,
   "id": "b9f420c6-7ff1-4361-a872-0593dbf35e94",
   "metadata": {},
   "outputs": [],
   "source": []
  }
 ],
 "metadata": {
  "kernelspec": {
   "display_name": "Python 3 (ipykernel)",
   "language": "python",
   "name": "python3"
  },
  "language_info": {
   "codemirror_mode": {
    "name": "ipython",
    "version": 3
   },
   "file_extension": ".py",
   "mimetype": "text/x-python",
   "name": "python",
   "nbconvert_exporter": "python",
   "pygments_lexer": "ipython3",
   "version": "3.13.5"
  }
 },
 "nbformat": 4,
 "nbformat_minor": 5
}
