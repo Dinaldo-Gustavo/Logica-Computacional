{
 "cells": [
  {
   "cell_type": "code",
   "execution_count": 3,
   "id": "5d6aa450-3386-4e08-8ff9-1d970f327683",
   "metadata": {},
   "outputs": [
    {
     "name": "stdout",
     "output_type": "stream",
     "text": [
      "True\n"
     ]
    }
   ],
   "source": [
    "premissa1 = True # Todo programador sabe lógica\n",
    "premissa2 = True # João é programador\n",
    "\n",
    "if premissa1 and premissa2: # Se as duas premissas forem verdadeiras\n",
    "    conclusao = True # Então João sabe lógica\n",
    "    print(conclusao) # Exibe o resultado na tela"
   ]
  },
  {
   "cell_type": "code",
   "execution_count": null,
   "id": "c93af191-2ec6-4ec1-9844-a9b8d6700d7b",
   "metadata": {},
   "outputs": [],
   "source": []
  }
 ],
 "metadata": {
  "kernelspec": {
   "display_name": "Python 3 (ipykernel)",
   "language": "python",
   "name": "python3"
  },
  "language_info": {
   "codemirror_mode": {
    "name": "ipython",
    "version": 3
   },
   "file_extension": ".py",
   "mimetype": "text/x-python",
   "name": "python",
   "nbconvert_exporter": "python",
   "pygments_lexer": "ipython3",
   "version": "3.13.5"
  }
 },
 "nbformat": 4,
 "nbformat_minor": 5
}
