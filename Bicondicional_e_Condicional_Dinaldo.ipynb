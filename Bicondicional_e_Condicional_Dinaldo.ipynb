{
 "cells": [
  {
   "cell_type": "markdown",
   "id": "64a19e00-4406-4641-9779-877ebe3199d2",
   "metadata": {},
   "source": [
    "## BICONDICIONAL <-> e CONDICIONAL ->"
   ]
  },
  {
   "cell_type": "code",
   "execution_count": 6,
   "id": "97184a24-735f-491d-a54d-1737e9b155ff",
   "metadata": {},
   "outputs": [
    {
     "name": "stdout",
     "output_type": "stream",
     "text": [
      "p: True | q: True | p -> q: True\n",
      "p: True | q: True | p -> q: True\n"
     ]
    }
   ],
   "source": [
    "# p: \"A prova é aplicada hoje\"\n",
    "# q: \"A prova é respondida à caneta azul\"\n",
    "\n",
    "dia = \"hoje\"\n",
    "caneta = \"azul\"\n",
    "\n",
    "p = (dia == \"hoje\")\n",
    "q = (caneta == \"azul\")\n",
    "\n",
    "print(\"p:\", p,\"| q:\", q, \"| p -> q:\", (not p) or q ) # Só é FALSA quando p = True e q = False\n",
    "print(\"p:\", p,\"| q:\", q, \"| p -> q:\", p == q ) # Só é VERDADEIRA quando p e q tem o MESMO VALOR LÓGICO"
   ]
  },
  {
   "cell_type": "code",
   "execution_count": 2,
   "id": "3f08728c-3926-4507-b7cf-a931cf691bd5",
   "metadata": {},
   "outputs": [
    {
     "name": "stdout",
     "output_type": "stream",
     "text": [
      "p: False | q: True | p -> q: True\n",
      "p: False | q: True | p -> q: False\n"
     ]
    }
   ],
   "source": [
    "# p: \"A prova é aplicada hoje\"\n",
    "# q: \"A prova é respondida à caneta azul\"\n",
    "\n",
    "dia = \"ontem\"\n",
    "caneta = \"azul\"\n",
    "\n",
    "p = (dia == \"hoje\")\n",
    "q = (caneta == \"azul\")\n",
    "\n",
    "print(\"p:\", p,\"| q:\", q, \"| p -> q:\", (not p) or q ) # Só é FALSA quando p = True e q = False\n",
    "print(\"p:\", p,\"| q:\", q, \"| p -> q:\", p == q ) # Só é VERDADEIRA quando p e q tem o MESMO VALOR LÓGICO"
   ]
  },
  {
   "cell_type": "code",
   "execution_count": 4,
   "id": "f17de1df-3e1c-448e-a41f-bd5cfa6ddc4d",
   "metadata": {},
   "outputs": [
    {
     "name": "stdout",
     "output_type": "stream",
     "text": [
      "p: True | q: False | p -> q: False\n",
      "p: True | q: False | p -> q: False\n"
     ]
    }
   ],
   "source": [
    "# p: \"A prova é aplicada hoje\"\n",
    "# q: \"A prova é respondida à caneta azul\"\n",
    "\n",
    "dia = \"hoje\"\n",
    "caneta = \"amarela\"\n",
    "\n",
    "p = (dia == \"hoje\")\n",
    "q = (caneta == \"azul\")\n",
    "\n",
    "print(\"p:\", p,\"| q:\", q, \"| p -> q:\", (not p) or q ) # Só é FALSA quando p = True e q = False\n",
    "print(\"p:\", p,\"| q:\", q, \"| p -> q:\", p == q ) # Só é VERDADEIRA quando p e q tem o MESMO VALOR LÓGICO"
   ]
  },
  {
   "cell_type": "code",
   "execution_count": 5,
   "id": "56f8070f-1037-472b-b7cf-c4c5dc38ac64",
   "metadata": {},
   "outputs": [
    {
     "name": "stdout",
     "output_type": "stream",
     "text": [
      "p: False | q: False | p -> q: True\n",
      "p: False | q: False | p -> q: True\n"
     ]
    }
   ],
   "source": [
    "# p: \"A prova é aplicada hoje\"\n",
    "# q: \"A prova é respondida à caneta azul\"\n",
    "\n",
    "dia = \"ontem\"\n",
    "caneta = \"amarela\"\n",
    "\n",
    "p = (dia == \"hoje\")\n",
    "q = (caneta == \"azul\")\n",
    "\n",
    "print(\"p:\", p,\"| q:\", q, \"| p -> q:\", (not p) or q ) # Só é FALSA quando p = True e q = False\n",
    "print(\"p:\", p,\"| q:\", q, \"| p -> q:\", p == q ) # Só é VERDADEIRA quando p e q tem o MESMO VALOR LÓGICO"
   ]
  }
 ],
 "metadata": {
  "kernelspec": {
   "display_name": "Python 3 (ipykernel)",
   "language": "python",
   "name": "python3"
  },
  "language_info": {
   "codemirror_mode": {
    "name": "ipython",
    "version": 3
   },
   "file_extension": ".py",
   "mimetype": "text/x-python",
   "name": "python",
   "nbconvert_exporter": "python",
   "pygments_lexer": "ipython3",
   "version": "3.13.5"
  }
 },
 "nbformat": 4,
 "nbformat_minor": 5
}
