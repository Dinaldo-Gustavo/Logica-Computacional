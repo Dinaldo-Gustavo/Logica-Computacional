{
 "cells": [
  {
   "cell_type": "markdown",
   "id": "6653b7fe-f9b4-47cc-bdd2-fced71d6bdcb",
   "metadata": {},
   "source": [
    "# DESAFIO EM GRUPO"
   ]
  },
  {
   "cell_type": "markdown",
   "id": "f5ab9809-f750-4554-b8d1-4d5cb633b7d6",
   "metadata": {},
   "source": [
    "## Criar um código com três proposições para tabela-verdade de CONJUNÇÃO e testar;"
   ]
  },
  {
   "cell_type": "code",
   "execution_count": 27,
   "id": "0f844d0b-2ffd-411c-9bbc-68ab5ee3c775",
   "metadata": {},
   "outputs": [],
   "source": [
    "#Nome: Dinaldo Gustavo da Rocha Ribeiro\n",
    "#Nome: Gabriela Maria Rodrigues de Morais"
   ]
  },
  {
   "cell_type": "code",
   "execution_count": 7,
   "id": "c2270e37-481d-4e56-811c-bcda16cd9791",
   "metadata": {},
   "outputs": [
    {
     "name": "stdout",
     "output_type": "stream",
     "text": [
      "\n",
      "p = True\n",
      "q = True\n",
      "r = True\n",
      "p^q^r = True\n"
     ]
    }
   ],
   "source": [
    "# p = \"A festa será de noite\"\n",
    "# q = \"A cor da roupa é preta\"\n",
    "# r = \"A comida será churrasco\"\n",
    "\n",
    "periodo = \"noite\"\n",
    "cor_roupa= \"preta\"\n",
    "comida = \"churrasco\"\n",
    "\n",
    "p = (periodo==\"noite\")\n",
    "q = (cor_roupa==\"preta\")\n",
    "r = (comida==\"churrasco\")\n",
    "\n",
    "print(f\"\"\"\n",
    "p = {p}\n",
    "q = {q}\n",
    "r = {r}\n",
    "p^q^r = {p and q and r}\"\"\")"
   ]
  },
  {
   "cell_type": "code",
   "execution_count": 10,
   "id": "be0ff3cd-0e64-4e3c-b5e6-d320062c8f4f",
   "metadata": {},
   "outputs": [
    {
     "name": "stdout",
     "output_type": "stream",
     "text": [
      "\n",
      "p = False\n",
      "q = True\n",
      "r = True\n",
      "p^q^r = False\n"
     ]
    }
   ],
   "source": [
    "periodo = \"dia\"\n",
    "cor_roupa= \"preta\"\n",
    "comida = \"churrasco\"\n",
    "\n",
    "p = (periodo==\"noite\")\n",
    "q = (cor_roupa==\"preta\")\n",
    "r = (comida==\"churrasco\")\n",
    "\n",
    "print(f\"\"\"\n",
    "p = {p}\n",
    "q = {q}\n",
    "r = {r}\n",
    "p^q^r = {p and q and r}\"\"\")"
   ]
  },
  {
   "cell_type": "code",
   "execution_count": 11,
   "id": "ec2ea9a8-99d0-4633-b932-a58738c74d84",
   "metadata": {},
   "outputs": [
    {
     "name": "stdout",
     "output_type": "stream",
     "text": [
      "\n",
      "p = True\n",
      "q = False\n",
      "r = True\n",
      "p^q^r = False\n"
     ]
    }
   ],
   "source": [
    "periodo = \"noite\"\n",
    "cor_roupa= \"branca\"\n",
    "comida = \"churrasco\"\n",
    "\n",
    "p = (periodo==\"noite\")\n",
    "q = (cor_roupa==\"preta\")\n",
    "r = (comida==\"churrasco\")\n",
    "\n",
    "print(f\"\"\"\n",
    "p = {p}\n",
    "q = {q}\n",
    "r = {r}\n",
    "p^q^r = {p and q and r}\"\"\")"
   ]
  },
  {
   "cell_type": "code",
   "execution_count": 12,
   "id": "fa5ac918-df9d-4a76-b7db-961d0c023041",
   "metadata": {},
   "outputs": [
    {
     "name": "stdout",
     "output_type": "stream",
     "text": [
      "\n",
      "p = True\n",
      "q = True\n",
      "r = False\n",
      "p^q^r = False\n"
     ]
    }
   ],
   "source": [
    "periodo = \"noite\"\n",
    "cor_roupa= \"preta\"\n",
    "comida = \"salgado\"\n",
    "\n",
    "p = (periodo==\"noite\")\n",
    "q = (cor_roupa==\"preta\")\n",
    "r = (comida==\"churrasco\")\n",
    "\n",
    "print(f\"\"\"\n",
    "p = {p}\n",
    "q = {q}\n",
    "r = {r}\n",
    "p^q^r = {p and q and r}\"\"\")"
   ]
  },
  {
   "cell_type": "code",
   "execution_count": 13,
   "id": "2f40f4c5-439e-45ed-9cc7-f38fa0b7d203",
   "metadata": {},
   "outputs": [
    {
     "name": "stdout",
     "output_type": "stream",
     "text": [
      "\n",
      "p = False\n",
      "q = False\n",
      "r = True\n",
      "p^q^r = False\n"
     ]
    }
   ],
   "source": [
    "periodo = \"dia\"\n",
    "cor_roupa= \"branca\"\n",
    "comida = \"churrasco\"\n",
    "\n",
    "p = (periodo==\"noite\")\n",
    "q = (cor_roupa==\"preta\")\n",
    "r = (comida==\"churrasco\")\n",
    "\n",
    "print(f\"\"\"\n",
    "p = {p}\n",
    "q = {q}\n",
    "r = {r}\n",
    "p^q^r = {p and q and r}\"\"\")"
   ]
  },
  {
   "cell_type": "code",
   "execution_count": 14,
   "id": "d1199251-0418-4f32-a03d-b98f35f7b3bd",
   "metadata": {},
   "outputs": [
    {
     "name": "stdout",
     "output_type": "stream",
     "text": [
      "\n",
      "p = False\n",
      "q = True\n",
      "r = False\n",
      "p^q^r = False\n"
     ]
    }
   ],
   "source": [
    "periodo = \"dia\"\n",
    "cor_roupa= \"preta\"\n",
    "comida = \"salgado\"\n",
    "\n",
    "p = (periodo==\"noite\")\n",
    "q = (cor_roupa==\"preta\")\n",
    "r = (comida==\"churrasco\")\n",
    "\n",
    "print(f\"\"\"\n",
    "p = {p}\n",
    "q = {q}\n",
    "r = {r}\n",
    "p^q^r = {p and q and r}\"\"\")"
   ]
  },
  {
   "cell_type": "code",
   "execution_count": 15,
   "id": "18c169d9-c672-43d1-9f39-510c08eea6d6",
   "metadata": {},
   "outputs": [
    {
     "name": "stdout",
     "output_type": "stream",
     "text": [
      "\n",
      "p = True\n",
      "q = False\n",
      "r = False\n",
      "p^q^r = False\n"
     ]
    }
   ],
   "source": [
    "periodo = \"noite\"\n",
    "cor_roupa= \"branca\"\n",
    "comida = \"salgado\"\n",
    "\n",
    "p = (periodo==\"noite\")\n",
    "q = (cor_roupa==\"preta\")\n",
    "r = (comida==\"churrasco\")\n",
    "\n",
    "print(f\"\"\"\n",
    "p = {p}\n",
    "q = {q}\n",
    "r = {r}\n",
    "p^q^r = {p and q and r}\"\"\")"
   ]
  },
  {
   "cell_type": "code",
   "execution_count": 17,
   "id": "c8b5b899-f43e-44b2-a5da-f4eb24639565",
   "metadata": {},
   "outputs": [
    {
     "name": "stdout",
     "output_type": "stream",
     "text": [
      "\n",
      "p = False\n",
      "q = False\n",
      "r = False\n",
      "p^q^r = False\n"
     ]
    }
   ],
   "source": [
    "periodo = \"dia\"\n",
    "cor_roupa= \"branca\"\n",
    "comida = \"salgado\"\n",
    "\n",
    "p = (periodo==\"noite\")\n",
    "q = (cor_roupa==\"preta\")\n",
    "r = (comida==\"churrasco\")\n",
    "\n",
    "print(f\"\"\"\n",
    "p = {p}\n",
    "q = {q}\n",
    "r = {r}\n",
    "p^q^r = {p and q and r}\"\"\")"
   ]
  },
  {
   "cell_type": "markdown",
   "id": "8f1e5bd0-12d6-471d-b6a4-6fa34179e498",
   "metadata": {},
   "source": [
    "## Criar um código com três proposições para tabela-verdade de DISJUNÇÃO e testar;"
   ]
  },
  {
   "cell_type": "code",
   "execution_count": 18,
   "id": "f0690a98-4799-4598-bc9e-c6e244d0d510",
   "metadata": {},
   "outputs": [
    {
     "name": "stdout",
     "output_type": "stream",
     "text": [
      "\n",
      "p = True\n",
      "q = True\n",
      "r = True\n",
      "pVqVr = True\n"
     ]
    }
   ],
   "source": [
    "# p = \"A festa será de noite\"\n",
    "# q = \"A cor da roupa é preta\"\n",
    "# r = \"A comida será churrasco\"\n",
    "\n",
    "periodo = \"noite\"\n",
    "cor_roupa= \"preta\"\n",
    "comida = \"churrasco\"\n",
    "\n",
    "p = (periodo==\"noite\")\n",
    "q = (cor_roupa==\"preta\")\n",
    "r = (comida==\"churrasco\")\n",
    "\n",
    "print(f\"\"\"\n",
    "p = {p}\n",
    "q = {q}\n",
    "r = {r}\n",
    "pVqVr = {p or q or r}\"\"\")"
   ]
  },
  {
   "cell_type": "code",
   "execution_count": 19,
   "id": "960d2636-0b73-4a99-b4d8-bc8c6c5972c7",
   "metadata": {},
   "outputs": [
    {
     "name": "stdout",
     "output_type": "stream",
     "text": [
      "\n",
      "p = False\n",
      "q = True\n",
      "r = True\n",
      "pVqVr = True\n"
     ]
    }
   ],
   "source": [
    "periodo = \"dia\"\n",
    "cor_roupa= \"preta\"\n",
    "comida = \"churrasco\"\n",
    "\n",
    "p = (periodo==\"noite\")\n",
    "q = (cor_roupa==\"preta\")\n",
    "r = (comida==\"churrasco\")\n",
    "\n",
    "print(f\"\"\"\n",
    "p = {p}\n",
    "q = {q}\n",
    "r = {r}\n",
    "pVqVr = {p or q or r}\"\"\")"
   ]
  },
  {
   "cell_type": "code",
   "execution_count": 20,
   "id": "b417a4cc-38bf-4e8e-a46f-a6a52ad4eb33",
   "metadata": {},
   "outputs": [
    {
     "name": "stdout",
     "output_type": "stream",
     "text": [
      "\n",
      "p = True\n",
      "q = False\n",
      "r = True\n",
      "pVqVr = True\n"
     ]
    }
   ],
   "source": [
    "periodo = \"noite\"\n",
    "cor_roupa= \"branca\"\n",
    "comida = \"churrasco\"\n",
    "\n",
    "p = (periodo==\"noite\")\n",
    "q = (cor_roupa==\"preta\")\n",
    "r = (comida==\"churrasco\")\n",
    "\n",
    "print(f\"\"\"\n",
    "p = {p}\n",
    "q = {q}\n",
    "r = {r}\n",
    "pVqVr = {p or q or r}\"\"\")"
   ]
  },
  {
   "cell_type": "code",
   "execution_count": 21,
   "id": "b09b5a23-0a3c-4e9f-b7fa-09b127292459",
   "metadata": {},
   "outputs": [
    {
     "name": "stdout",
     "output_type": "stream",
     "text": [
      "\n",
      "p = True\n",
      "q = True\n",
      "r = False\n",
      "pVqVr = True\n"
     ]
    }
   ],
   "source": [
    "periodo = \"noite\"\n",
    "cor_roupa= \"preta\"\n",
    "comida = \"salgado\"\n",
    "\n",
    "p = (periodo==\"noite\")\n",
    "q = (cor_roupa==\"preta\")\n",
    "r = (comida==\"churrasco\")\n",
    "\n",
    "print(f\"\"\"\n",
    "p = {p}\n",
    "q = {q}\n",
    "r = {r}\n",
    "pVqVr = {p or q or r}\"\"\")"
   ]
  },
  {
   "cell_type": "code",
   "execution_count": 23,
   "id": "bc478528-2de0-46cc-9240-f6bfd05bff7a",
   "metadata": {},
   "outputs": [
    {
     "name": "stdout",
     "output_type": "stream",
     "text": [
      "\n",
      "p = False\n",
      "q = False\n",
      "r = True\n",
      "pVqVr = True\n"
     ]
    }
   ],
   "source": [
    "periodo = \"dia\"\n",
    "cor_roupa= \"branca\"\n",
    "comida = \"churrasco\"\n",
    "\n",
    "p = (periodo==\"noite\")\n",
    "q = (cor_roupa==\"preta\")\n",
    "r = (comida==\"churrasco\")\n",
    "\n",
    "print(f\"\"\"\n",
    "p = {p}\n",
    "q = {q}\n",
    "r = {r}\n",
    "pVqVr = {p or q or r}\"\"\")"
   ]
  },
  {
   "cell_type": "code",
   "execution_count": 24,
   "id": "2bca92fd-f7eb-41f5-8f31-9523046f6fa8",
   "metadata": {},
   "outputs": [
    {
     "name": "stdout",
     "output_type": "stream",
     "text": [
      "\n",
      "p = False\n",
      "q = True\n",
      "r = False\n",
      "pVqVr = True\n"
     ]
    }
   ],
   "source": [
    "periodo = \"dia\"\n",
    "cor_roupa= \"preta\"\n",
    "comida = \"salgado\"\n",
    "\n",
    "p = (periodo==\"noite\")\n",
    "q = (cor_roupa==\"preta\")\n",
    "r = (comida==\"churrasco\")\n",
    "\n",
    "print(f\"\"\"\n",
    "p = {p}\n",
    "q = {q}\n",
    "r = {r}\n",
    "pVqVr = {p or q or r}\"\"\")"
   ]
  },
  {
   "cell_type": "code",
   "execution_count": 25,
   "id": "22f17016-57b8-4a3a-919a-12436bcc9a49",
   "metadata": {},
   "outputs": [
    {
     "name": "stdout",
     "output_type": "stream",
     "text": [
      "\n",
      "p = True\n",
      "q = False\n",
      "r = False\n",
      "pVqVr = True\n"
     ]
    }
   ],
   "source": [
    "periodo = \"noite\"\n",
    "cor_roupa= \"branca\"\n",
    "comida = \"salgado\"\n",
    "\n",
    "p = (periodo==\"noite\")\n",
    "q = (cor_roupa==\"preta\")\n",
    "r = (comida==\"churrasco\")\n",
    "\n",
    "print(f\"\"\"\n",
    "p = {p}\n",
    "q = {q}\n",
    "r = {r}\n",
    "pVqVr = {p or q or r}\"\"\")"
   ]
  },
  {
   "cell_type": "code",
   "execution_count": 26,
   "id": "31d6a141-5402-40b2-92ae-9cb891a0ac12",
   "metadata": {},
   "outputs": [
    {
     "name": "stdout",
     "output_type": "stream",
     "text": [
      "\n",
      "p = False\n",
      "q = False\n",
      "r = False\n",
      "pVqVr = False\n"
     ]
    }
   ],
   "source": [
    "periodo = \"dia\"\n",
    "cor_roupa= \"branca\"\n",
    "comida = \"salgado\"\n",
    "\n",
    "p = (periodo==\"noite\")\n",
    "q = (cor_roupa==\"preta\")\n",
    "r = (comida==\"churrasco\")\n",
    "\n",
    "print(f\"\"\"\n",
    "p = {p}\n",
    "q = {q}\n",
    "r = {r}\n",
    "pVqVr = {p or q or r}\"\"\")"
   ]
  }
 ],
 "metadata": {
  "kernelspec": {
   "display_name": "Python 3 (ipykernel)",
   "language": "python",
   "name": "python3"
  },
  "language_info": {
   "codemirror_mode": {
    "name": "ipython",
    "version": 3
   },
   "file_extension": ".py",
   "mimetype": "text/x-python",
   "name": "python",
   "nbconvert_exporter": "python",
   "pygments_lexer": "ipython3",
   "version": "3.13.5"
  }
 },
 "nbformat": 4,
 "nbformat_minor": 5
}
