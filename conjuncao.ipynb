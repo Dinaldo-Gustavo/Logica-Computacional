{
 "cells": [
  {
   "cell_type": "markdown",
   "id": "336c12ee-7269-4b40-b0e3-d386c0be56cf",
   "metadata": {},
   "source": [
    "## Código AND"
   ]
  },
  {
   "cell_type": "code",
   "execution_count": 14,
   "id": "c4cd792f-e9f9-4a4b-9376-901e98015cea",
   "metadata": {},
   "outputs": [
    {
     "name": "stdin",
     "output_type": "stream",
     "text": [
      "Salário (ex: 5000):  5000\n",
      "local do trabalho (homeoffice/presencial):  home office\n"
     ]
    },
    {
     "name": "stdout",
     "output_type": "stream",
     "text": [
      "Vaga aceita/True\n",
      "p= True | q= True\n"
     ]
    }
   ],
   "source": [
    "# Aceito/True se (salário >= 5000) E (trabalho = home office), senão vaga não aceita/False \n",
    "\n",
    "# 1) Entradas\n",
    "salario = float(input(\"Salário (ex: 5000): \"))\n",
    "localdotrabalho = input(\"local do trabalho (homeoffice/presencial): \") \n",
    "\n",
    "# 2) Proposições (TRUE/FALSE\n",
    "p = (salario >=5000) # Salário atende a base-salarial?\n",
    "q = (localdotrabalho.strip().replace(\" \",\"\").lower() == \"homeoffice\") # Local do trabalho é homeoffice\n",
    "\n",
    "# 3) Conjunção (E lógica)\n",
    "if p or q:\n",
    "    print(\"Vaga aceita/True\")\n",
    "else:\n",
    "    print(\"Vaga não aceita/False\")\n",
    "print(\"p=\",p, \"| q=\",q)"
   ]
  },
  {
   "cell_type": "code",
   "execution_count": null,
   "id": "8478faec-b888-4118-8926-aae648ed3994",
   "metadata": {},
   "outputs": [],
   "source": []
  }
 ],
 "metadata": {
  "kernelspec": {
   "display_name": "Python 3 (ipykernel)",
   "language": "python",
   "name": "python3"
  },
  "language_info": {
   "codemirror_mode": {
    "name": "ipython",
    "version": 3
   },
   "file_extension": ".py",
   "mimetype": "text/x-python",
   "name": "python",
   "nbconvert_exporter": "python",
   "pygments_lexer": "ipython3",
   "version": "3.13.5"
  }
 },
 "nbformat": 4,
 "nbformat_minor": 5
}
