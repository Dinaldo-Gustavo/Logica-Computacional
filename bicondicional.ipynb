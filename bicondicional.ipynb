{
 "cells": [
  {
   "cell_type": "code",
   "execution_count": 10,
   "id": "6217e23a-e12d-4089-8dd7-c6923004e148",
   "metadata": {},
   "outputs": [
    {
     "name": "stdout",
     "output_type": "stream",
     "text": [
      "vendedor |   vendas | P(meta?) | Q(bonûs) | p<->q\n",
      "--------------------------------------------------\n",
      "Ana      |   120000 | True     | True     | True\n",
      "Bruno    |    98000 | False    | False    | True\n",
      "Carla    |    45000 | False    | False    | True\n",
      "Davi     |   150000 | True     | True     | True\n",
      "Eva      |    52000 | False    | True     | False\n"
     ]
    }
   ],
   "source": [
    "# Bicondicional (p<->q) com valor de meta:\n",
    "# p = (vendas >= META);\n",
    "# q = bonus_pago\n",
    "META = 100000 # valor da meta (altere aqui)\n",
    "\n",
    "# Casos: (vendedor, vendas, bonus_pago = q)\n",
    "casos = [\n",
    "(\"Ana\", 120000, True),\n",
    "(\"Bruno\", 98000, False),\n",
    "(\"Carla\", 45000, False),\n",
    "(\"Davi\", 150000, True),\n",
    "(\"Eva\", 52000, True)\n",
    "]\n",
    "\n",
    "print(f\"{'vendedor':<8} | {'vendas':>8} | {'P(meta?)':>8} | {'Q(bonûs)':>8} | {'p<->q'}\")\n",
    "print(f\"{\"-\" * 50}\")\n",
    "\n",
    "for nome, vendas, q in casos:\n",
    "    p = (vendas >= META) # atingiu a meta?\n",
    "    bic = (p==q)\n",
    "    print(f\"{nome:<8} | {vendas:>8} | {str(p):<8} | {str(q):<8} | {bic}\")"
   ]
  },
  {
   "cell_type": "code",
   "execution_count": 22,
   "id": "14315692-f7ad-41cb-943f-00e4dd39c134",
   "metadata": {},
   "outputs": [
    {
     "name": "stdin",
     "output_type": "stream",
     "text": [
      "Nota (ex: 6, 7.5):  0\n",
      "Frequência % (ex: 80, 70):  0\n",
      "Aprovado? (1=sim, 0=nao):  0\n"
     ]
    },
    {
     "name": "stdout",
     "output_type": "stream",
     "text": [
      "\n",
      "--- Resultado ---\n",
      "p (nota >= 6): False\n",
      "q (freq >= 75%): False\n",
      "p^q (criterio): False\n",
      "a (decisão): False\n",
      "a <-> (p^q): True\n",
      "Situação: CONSISTENTE\n"
     ]
    }
   ],
   "source": [
    "# Bicondicional de consistência a <-> (p AND q)\n",
    "# p: nota >= 6\n",
    "# q: frequencia >= 75%\n",
    "# a: aprovado? (1=sim, 0=nao)\n",
    "\n",
    "# 1) Entradas (aceita vírgula)\n",
    "nota = float(input(\"Nota (ex: 6, 7.5): \").replace(\",\",\".\"))\n",
    "frequencia = float(input(\"Frequência % (ex: 80, 70): \").replace(\",\",\".\"))\n",
    "aprovado_input = input(\"Aprovado? (1=sim, 0=nao): \")\n",
    "\n",
    "# 2) Proposições\n",
    "p = (nota >=6)\n",
    "q = (frequencia >= 75)\n",
    "a = bool(int(aprovado_input)) #1->True, 0->False\n",
    "\n",
    "#3) Critério oficial e bicondicional\n",
    "criterio = (p and q) # p^q\n",
    "consistente = (a == criterio) # a <-> (p^q)\n",
    "\n",
    "# 4) Saída clara\n",
    "print(\"\\n--- Resultado ---\")\n",
    "print(\"p (nota >= 6):\", p)\n",
    "print(\"q (freq >= 75%):\", q)\n",
    "print(\"p^q (criterio):\", criterio)\n",
    "print(\"a (decisão):\", a)\n",
    "print(\"a <-> (p^q):\", consistente) # True = consistente; False = incosistente\n",
    "print(\"Situação:\", \"CONSISTENTE\" if consistente else \"INCONSISTENTE\")"
   ]
  },
  {
   "cell_type": "code",
   "execution_count": null,
   "id": "939380c7-541f-4eea-b09a-12d23560f989",
   "metadata": {},
   "outputs": [],
   "source": [
    "\n"
   ]
  }
 ],
 "metadata": {
  "kernelspec": {
   "display_name": "Python 3 (ipykernel)",
   "language": "python",
   "name": "python3"
  },
  "language_info": {
   "codemirror_mode": {
    "name": "ipython",
    "version": 3
   },
   "file_extension": ".py",
   "mimetype": "text/x-python",
   "name": "python",
   "nbconvert_exporter": "python",
   "pygments_lexer": "ipython3",
   "version": "3.13.5"
  }
 },
 "nbformat": 4,
 "nbformat_minor": 5
}
