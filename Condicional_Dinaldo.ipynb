{
 "cells": [
  {
   "cell_type": "markdown",
   "id": "833e0d68-3ef7-4402-8b9d-7480c2093a59",
   "metadata": {},
   "source": [
    "## CONDICIONAL ->"
   ]
  },
  {
   "cell_type": "code",
   "execution_count": 30,
   "id": "aa0bfe80-fe92-47e5-a095-2debc266663c",
   "metadata": {},
   "outputs": [
    {
     "ename": "NameError",
     "evalue": "name 'r' is not defined",
     "output_type": "error",
     "traceback": [
      "\u001b[1;31m---------------------------------------------------------------------------\u001b[0m",
      "\u001b[1;31mNameError\u001b[0m                                 Traceback (most recent call last)",
      "Cell \u001b[1;32mIn[30], line 12\u001b[0m\n\u001b[0;32m      9\u001b[0m p \u001b[38;5;241m=\u001b[39m (dia \u001b[38;5;241m==\u001b[39m \u001b[38;5;124m\"\u001b[39m\u001b[38;5;124mhoje\u001b[39m\u001b[38;5;124m\"\u001b[39m)\n\u001b[0;32m     10\u001b[0m q \u001b[38;5;241m=\u001b[39m (caneta \u001b[38;5;241m==\u001b[39m \u001b[38;5;124m\"\u001b[39m\u001b[38;5;124mazul\u001b[39m\u001b[38;5;124m\"\u001b[39m)\n\u001b[1;32m---> 12\u001b[0m \u001b[38;5;28mprint\u001b[39m(\u001b[38;5;124m\"\u001b[39m\u001b[38;5;124mp:\u001b[39m\u001b[38;5;124m\"\u001b[39m, p,\u001b[38;5;124m\"\u001b[39m\u001b[38;5;124m| q:\u001b[39m\u001b[38;5;124m\"\u001b[39m, q, \u001b[38;5;124m\"\u001b[39m\u001b[38;5;124m| p -> q:\u001b[39m\u001b[38;5;124m\"\u001b[39m, (\u001b[38;5;129;01mnot\u001b[39;00m p \u001b[38;5;129;01mand\u001b[39;00m q) \u001b[38;5;129;01mor\u001b[39;00m r)\n",
      "\u001b[1;31mNameError\u001b[0m: name 'r' is not defined"
     ]
    }
   ],
   "source": [
    "# Condicional(->): a lógica só é False quando p for TRUE, q FALSE\n",
    "\n",
    "# p: \"A prova é aplicada hoje\"\n",
    "# q: \"A prova é respondida à caneta azul\"\n",
    "\n",
    "dia = \"hoje\"\n",
    "caneta = \"azul\"\n",
    "\n",
    "p = (dia == \"hoje\")\n",
    "q = (caneta == \"azul\")\n",
    "\n",
    "print(\"p:\", p,\"| q:\", q, \"| p -> q:\", (not p) or q ) # Só é FALSA quando p = True e q = False"
   ]
  },
  {
   "cell_type": "code",
   "execution_count": 26,
   "id": "50171eeb-78e0-48c8-8979-0a84e32f2630",
   "metadata": {},
   "outputs": [
    {
     "name": "stdout",
     "output_type": "stream",
     "text": [
      "p: False | q: True | p -> q: True\n"
     ]
    }
   ],
   "source": [
    "# p: \"A prova é aplicada hoje\"\n",
    "# q: \"A prova é respondida à caneta azul\"\n",
    "\n",
    "dia = \"amanh\"\n",
    "caneta = \"azul\"\n",
    "\n",
    "p = (dia == \"hoje\")\n",
    "q = (caneta == \"azul\")\n",
    "\n",
    "print(\"p:\", p,\"| q:\", q, \"| p -> q:\", (not p) or q ) # Só é FALSA quando p = True e q = False"
   ]
  },
  {
   "cell_type": "code",
   "execution_count": 27,
   "id": "ba6fd39d-21a5-4697-aa26-41eb9e592f56",
   "metadata": {},
   "outputs": [
    {
     "name": "stdout",
     "output_type": "stream",
     "text": [
      "p: True | q: False | p -> q: False\n"
     ]
    }
   ],
   "source": [
    "# p: \"A prova é aplicada hoje\"\n",
    "# q: \"A prova é respondida à caneta azul\"\n",
    "\n",
    "dia = \"hoje\"\n",
    "caneta = \"amarelo\"\n",
    "\n",
    "p = (dia == \"hoje\")\n",
    "q = (caneta == \"azul\")\n",
    "\n",
    "print(\"p:\", p,\"| q:\", q, \"| p -> q:\", (not p) or q ) # Só é FALSA quando p = True e q = False"
   ]
  },
  {
   "cell_type": "code",
   "execution_count": 28,
   "id": "cb765d7f-135f-4ffa-97bf-c2d0615d49a4",
   "metadata": {},
   "outputs": [
    {
     "name": "stdout",
     "output_type": "stream",
     "text": [
      "p: False | q: False | p -> q: True\n"
     ]
    }
   ],
   "source": [
    "# p: \"A prova é aplicada hoje\"\n",
    "# q: \"A prova é respondida à caneta azul\"\n",
    "\n",
    "dia = \"amanhã\"\n",
    "caneta = \"amarelo\"\n",
    "\n",
    "p = (dia == \"hoje\")\n",
    "q = (caneta == \"azul\")\n",
    "\n",
    "print(\"p:\", p,\"| q:\", q, \"| p -> q:\", (not p) or q ) # Só é FALSA quando p = True e q = False"
   ]
  }
 ],
 "metadata": {
  "kernelspec": {
   "display_name": "Python 3 (ipykernel)",
   "language": "python",
   "name": "python3"
  },
  "language_info": {
   "codemirror_mode": {
    "name": "ipython",
    "version": 3
   },
   "file_extension": ".py",
   "mimetype": "text/x-python",
   "name": "python",
   "nbconvert_exporter": "python",
   "pygments_lexer": "ipython3",
   "version": "3.13.5"
  }
 },
 "nbformat": 4,
 "nbformat_minor": 5
}
