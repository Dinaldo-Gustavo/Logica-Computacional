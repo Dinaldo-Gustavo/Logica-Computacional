{
 "cells": [
  {
   "cell_type": "markdown",
   "id": "dcd4a437-3b56-4c66-86b2-503fa46eae32",
   "metadata": {},
   "source": [
    "### 1º Atividade em grupo"
   ]
  },
  {
   "cell_type": "markdown",
   "id": "4ef52062-0c3b-4174-9ff0-91cfd87775ab",
   "metadata": {},
   "source": [
    "Com base no código desenvolvido anteriormente, realizar as alterações conforme cada letra abaixo:"
   ]
  },
  {
   "cell_type": "markdown",
   "id": "e70322ac-184b-4547-a7d8-634bf779d77c",
   "metadata": {},
   "source": [
    "a) Pesquisar quanto é o salário de um analista e cientista de dados nível júnior para a região de Sorocaba e atualizar o valor no código o salário pesquisado e testar(rodar);"
   ]
  },
  {
   "cell_type": "code",
   "execution_count": 7,
   "id": "885ed199-19ca-4f8a-8b50-4afd792648d0",
   "metadata": {},
   "outputs": [
    {
     "name": "stdin",
     "output_type": "stream",
     "text": [
      "Salário (ex: 5000):  3000\n",
      "local do trabalho (homeoffice/presencial):  presencial\n"
     ]
    },
    {
     "name": "stdout",
     "output_type": "stream",
     "text": [
      "Vaga não aceita/False\n",
      "p= False | q= False\n"
     ]
    }
   ],
   "source": [
    "# Salário Analista e Cientista de Dados Júnior: 4000\n",
    "\n",
    "# Aceito/True se (salário >= 5000) E (trabalho = home office), senão vaga não aceita/False\n",
    "\n",
    "# 1) Entradas\n",
    "salario = float(input(\"Salário (ex: 5000): \"))\n",
    "localdotrabalho = input(\"local do trabalho (homeoffice/presencial): \")\n",
    "\n",
    "# 2) Proposições (TRUE/FALSE\n",
    "p = (salario >= 4000) # Salário atende a base-salarial?\n",
    "q = (localdotrabalho.strip().replace(\" \",\"\").lower() == \"homeoffice\") # Local do trabalho é homeoffice\n",
    "\n",
    "# 3) Conjunção (E lógica)\n",
    "if p and q:\n",
    "    print(\"Vaga aceita/True\")\n",
    "else:\n",
    "    print(\"Vaga não aceita/False\")\n",
    "print(\"p=\",p, \"| q=\",q)"
   ]
  },
  {
   "cell_type": "markdown",
   "id": "aebf0060-6620-48e9-940a-f3681ba6d62f",
   "metadata": {},
   "source": [
    "b) Incluir mais uma entrada/proposição de conectivo AND sendo esse um BENEFÍCIO que o grupo entenda importante (EXEMPLO: Convênio com Farmácia, Academia e etc), testar (rodar);"
   ]
  },
  {
   "cell_type": "code",
   "execution_count": 8,
   "id": "c57c6868-0019-487d-94e5-dd442a83d3e8",
   "metadata": {},
   "outputs": [
    {
     "name": "stdin",
     "output_type": "stream",
     "text": [
      "Salário (ex: 4000):  4000\n",
      "local do trabalho (homeoffice/presencial):  home office\n",
      "Tem VR? (S/N):  s\n"
     ]
    },
    {
     "name": "stdout",
     "output_type": "stream",
     "text": [
      "Vaga aceita/True\n",
      "p= True | q= True |r= True\n"
     ]
    }
   ],
   "source": [
    "# Aceito/True se (salário >= 4000) E (trabalho = home office), senão vaga não aceita/False\n",
    "\n",
    "# 1) Entradas\n",
    "salario = float(input(\"Salário (ex: 4000): \"))\n",
    "localdotrabalho = input(\"local do trabalho (homeoffice/presencial): \")\n",
    "valerefeicao = input(\"Tem VR? (S/N): \")\n",
    "\n",
    "# 2) Proposições (TRUE/FALSE\n",
    "p = (salario >= 4000) # Salário atende a base-salarial?\n",
    "q = (localdotrabalho.strip().replace(\" \",\"\").lower() == \"homeoffice\") # Local do trabalho é homeoffice\n",
    "r = (valerefeicao.strip().replace(\" \",\"\").upper() == \"S\")\n",
    "\n",
    "# 3) Conjunção (E lógica)\n",
    "if p and q and r:\n",
    "    print(\"Vaga aceita/True\")\n",
    "else:\n",
    "    print(\"Vaga não aceita/False\")\n",
    "print(\"p=\",p, \"| q=\",q, \"|r=\",r)"
   ]
  },
  {
   "cell_type": "code",
   "execution_count": 9,
   "id": "f64fd1c5-4a6a-453b-a699-eec410f715dd",
   "metadata": {},
   "outputs": [
    {
     "name": "stdin",
     "output_type": "stream",
     "text": [
      "Salário (ex: 4000):  2000\n",
      "local do trabalho (homeoffice/presencial):  home office\n",
      "Tem VR? (S/N):  s\n"
     ]
    },
    {
     "name": "stdout",
     "output_type": "stream",
     "text": [
      "Vaga não aceita/False\n",
      "p= False | q= True |r= True\n"
     ]
    }
   ],
   "source": [
    "# 1) Entradas\n",
    "salario = float(input(\"Salário (ex: 4000): \"))\n",
    "localdotrabalho = input(\"local do trabalho (homeoffice/presencial): \")\n",
    "valerefeicao = input(\"Tem VR? (S/N): \")\n",
    "\n",
    "# 2) Proposições (TRUE/FALSE\n",
    "p = (salario >= 4000) # Salário atende a base-salarial?\n",
    "q = (localdotrabalho.strip().replace(\" \",\"\").lower() == \"homeoffice\") # Local do trabalho é homeoffice\n",
    "r = (valerefeicao.strip().replace(\" \",\"\").upper() == \"S\")\n",
    "\n",
    "# 3) Conjunção (E lógica)\n",
    "if p and q and r:\n",
    "    print(\"Vaga aceita/True\")\n",
    "else:\n",
    "    print(\"Vaga não aceita/False\")\n",
    "print(\"p=\",p, \"| q=\",q, \"|r=\",r)"
   ]
  },
  {
   "cell_type": "markdown",
   "id": "0395bb0f-3734-4072-b632-f95aa3ff8871",
   "metadata": {},
   "source": [
    "c) Montar uma apresentação completa e apresentar para sala dentro do horário de aula."
   ]
  }
 ],
 "metadata": {
  "kernelspec": {
   "display_name": "Python 3 (ipykernel)",
   "language": "python",
   "name": "python3"
  },
  "language_info": {
   "codemirror_mode": {
    "name": "ipython",
    "version": 3
   },
   "file_extension": ".py",
   "mimetype": "text/x-python",
   "name": "python",
   "nbconvert_exporter": "python",
   "pygments_lexer": "ipython3",
   "version": "3.13.5"
  }
 },
 "nbformat": 4,
 "nbformat_minor": 5
}
